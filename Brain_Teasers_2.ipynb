{
  "nbformat": 4,
  "nbformat_minor": 0,
  "metadata": {
    "colab": {
      "provenance": [],
      "authorship_tag": "ABX9TyMqShOqDe1QO4z8Cv7XWMA4",
      "include_colab_link": true
    },
    "kernelspec": {
      "name": "python3",
      "display_name": "Python 3"
    },
    "language_info": {
      "name": "python"
    }
  },
  "cells": [
    {
      "cell_type": "markdown",
      "metadata": {
        "id": "view-in-github",
        "colab_type": "text"
      },
      "source": [
        "<a href=\"https://colab.research.google.com/github/ShilpaVasista/BCS358D/blob/main/Brain_Teasers_2.ipynb\" target=\"_parent\"><img src=\"https://colab.research.google.com/assets/colab-badge.svg\" alt=\"Open In Colab\"/></a>"
      ]
    },
    {
      "cell_type": "code",
      "execution_count": null,
      "metadata": {
        "id": "krh1jq9vN2un"
      },
      "outputs": [],
      "source": [
        "# Example 1\n",
        "# Given string\n",
        "s = \"Python is fun!\"\n",
        "\n",
        "# Extract the word \"is\" using string slicing\n",
        "result = s[???]\n",
        "print(result)  # Output: is\n"
      ]
    },
    {
      "cell_type": "code",
      "source": [
        "# Example 2\n",
        "# Given string\n",
        "s = \"abcdefghijklmnopqrstuvwxyz\"\n",
        "\n",
        "# Use slicing to create a new string with every second letter in reverse order\n",
        "result = s[???]\n",
        "print(result)  # Output: zyxwvutsrqponmlkjihgfedcba\n"
      ],
      "metadata": {
        "id": "MO9tv7gvOCGD"
      },
      "execution_count": null,
      "outputs": []
    },
    {
      "cell_type": "code",
      "source": [
        "# Example 3\n",
        "# Given string\n",
        "s = \"Hello, World!\"\n",
        "\n",
        "# Extract the substring \"World\" using negative indices\n",
        "result = s[???]\n",
        "print(result)  # Output: World\n"
      ],
      "metadata": {
        "id": "XYbnhQmVOGLS"
      },
      "execution_count": null,
      "outputs": []
    },
    {
      "cell_type": "code",
      "source": [
        "# Example 4\n",
        "# Given string\n",
        "s = \"abcdefghij\"\n",
        "\n",
        "# Create a new string by slicing the original string in reverse order\n",
        "result = s[???]\n",
        "print(result)  # Output: jihgfedcba\n"
      ],
      "metadata": {
        "id": "HS1oTdKoOKqx"
      },
      "execution_count": null,
      "outputs": []
    },
    {
      "cell_type": "code",
      "source": [
        "# Example 5\n",
        "# Given string\n",
        "s = \"1a2b3c4d5e6f7g8h9i1\"\n",
        "\n",
        "# Use slicing to extract only the numeric characters\n",
        "result = s[???]\n",
        "print(result)  # Output: 1234567891\n"
      ],
      "metadata": {
        "id": "_nBPgQ5LOQqq"
      },
      "execution_count": null,
      "outputs": []
    },
    {
      "cell_type": "code",
      "source": [
        "# Example 6\n",
        "# Given string\n",
        "s = \"abcdefghij\"\n",
        "\n",
        "# Use slicing to create a new string \"acegi\"\n",
        "result = s[::???]\n",
        "print(result)  # Output: acegi\n"
      ],
      "metadata": {
        "id": "wKhZT4IBRMTh"
      },
      "execution_count": null,
      "outputs": []
    },
    {
      "cell_type": "code",
      "source": [
        "\n",
        "# Example 7\n",
        "# Given string\n",
        "s = \"pythonrocks\"\n",
        "\n",
        "# Reverse the string and extract every third character\n",
        "result = s[::-???]\n",
        "print(result)  # Output: sooy\n"
      ],
      "metadata": {
        "id": "KcUBK76-RQph"
      },
      "execution_count": null,
      "outputs": []
    },
    {
      "cell_type": "code",
      "source": [
        "# Example 8\n",
        "# Given string\n",
        "s = \"1a2b3c4d5e6f7g8h9i10\"\n",
        "\n",
        "# Extract the characters at odd indices\n",
        "result = s[???]\n",
        "print(result)  # Output: abcdefghij0\n"
      ],
      "metadata": {
        "id": "QGPqEniORTKh"
      },
      "execution_count": null,
      "outputs": []
    },
    {
      "cell_type": "code",
      "source": [
        "# Example 9\n",
        "# Given string\n",
        "s = \"abc def ghi\"\n",
        "\n",
        "# Reverse the words in the string\n",
        "result = s[???]\n",
        "print(result)  # Output: ghi def abc\n"
      ],
      "metadata": {
        "id": "rY4mhcLVRVBM"
      },
      "execution_count": null,
      "outputs": []
    },
    {
      "cell_type": "code",
      "source": [
        "# Example 10\n",
        "# Given string\n",
        "s = \"abracadabra\"\n",
        "\n",
        "# Create a new string by extracting alternate characters starting from index 1\n",
        "result = s[???]\n",
        "print(result)  # Output: baaar\n"
      ],
      "metadata": {
        "id": "-8yhekJTRZNh"
      },
      "execution_count": null,
      "outputs": []
    }
  ]
}