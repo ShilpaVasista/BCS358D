{
  "nbformat": 4,
  "nbformat_minor": 0,
  "metadata": {
    "colab": {
      "provenance": [],
      "authorship_tag": "ABX9TyM7zfm1t681mbKFp+n9jIb4",
      "include_colab_link": true
    },
    "kernelspec": {
      "name": "python3",
      "display_name": "Python 3"
    },
    "language_info": {
      "name": "python"
    }
  },
  "cells": [
    {
      "cell_type": "markdown",
      "metadata": {
        "id": "view-in-github",
        "colab_type": "text"
      },
      "source": [
        "<a href=\"https://colab.research.google.com/github/ShilpaVasista/BCS358D/blob/main/Program3b_Solved.ipynb\" target=\"_parent\"><img src=\"https://colab.research.google.com/assets/colab-badge.svg\" alt=\"Open In Colab\"/></a>"
      ]
    },
    {
      "cell_type": "code",
      "execution_count": 4,
      "metadata": {
        "colab": {
          "base_uri": "https://localhost:8080/"
        },
        "id": "gBUlKEYDHGHv",
        "outputId": "80ec1618-1236-467b-9af5-f56bd41e5be2"
      },
      "outputs": [
        {
          "output_type": "stream",
          "name": "stdout",
          "text": [
            "Enter the first string: I love to eat apple.\n",
            "Enter the second string: I do not like to eat pineapple.\n",
            "[Match(a=0, b=0, size=2), Match(a=2, b=9, size=1), Match(a=5, b=12, size=9), Match(a=14, b=25, size=6), Match(a=20, b=31, size=0)]\n",
            "Similarity between two said strings: 0.7058823529411765\n"
          ]
        }
      ],
      "source": [
        "# Import the difflib library, which provides tools for comparing sequences\n",
        "import difflib\n",
        "# Define a function to calculate similarity between two strings\n",
        "def calculate_similarity(str1, str2):\n",
        "    # Create a SequenceMatcher object with None as the argument for the second parameter\n",
        "    # This allows the SequenceMatcher to auto-select appropriate algorithms for comparison\n",
        "    seq_matcher = difflib.SequenceMatcher(None, str1, str2)\n",
        "    print(seq_matcher.get_matching_blocks())\n",
        "    # Calculate the similarity ratio between the two strings\n",
        "    similarity_ratio = seq_matcher.ratio()\n",
        "\n",
        "    return similarity_ratio\n",
        "\n",
        "\n",
        "# Prompt the user to input two strings\n",
        "str1 = input(\"Enter the first string: \")\n",
        "str2 = input(\"Enter the second string: \")\n",
        "\n",
        "# Calculate the similarity between the input strings\n",
        "similarity = calculate_similarity(str1, str2)\n",
        "\n",
        "# Print the similarity ratio\n",
        "print(\"Similarity between two said strings:\", similarity)"
      ]
    }
  ]
}