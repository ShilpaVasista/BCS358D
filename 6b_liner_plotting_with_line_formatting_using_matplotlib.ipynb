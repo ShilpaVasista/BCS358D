{
  "cells": [
    {
      "cell_type": "markdown",
      "metadata": {
        "id": "view-in-github",
        "colab_type": "text"
      },
      "source": [
        "<a href=\"https://colab.research.google.com/github/ShilpaVasista/BCS358D/blob/main/6b_liner_plotting_with_line_formatting_using_matplotlib.ipynb\" target=\"_parent\"><img src=\"https://colab.research.google.com/assets/colab-badge.svg\" alt=\"Open In Colab\"/></a>"
      ]
    },
    {
      "cell_type": "markdown",
      "id": "6d1622c4",
      "metadata": {
        "id": "6d1622c4"
      },
      "source": [
        "# Linear Plotting with Line Formatting using Matplotlib"
      ]
    },
    {
      "cell_type": "markdown",
      "id": "ff05e6f9",
      "metadata": {
        "id": "ff05e6f9"
      },
      "source": [
        "Write a Python program to illustrate linear plotting with line formatting using Matplotlib."
      ]
    },
    {
      "cell_type": "markdown",
      "id": "a3839cf7",
      "metadata": {
        "id": "a3839cf7"
      },
      "source": [
        "## Problem Statement and Introduction\n",
        "**Question 1: Sales Trend Analysis**\n",
        "\n",
        "Scenario: You are analyzing the monthly sales data for a retail store over the past year. The goal is to create a line plot that showcases the sales trend, emphasizing specific data points.\n",
        "\n",
        "Input Data:\n",
        "```\n",
        "Months: [\"Jan\", \"Feb\", \"Mar\", \"Apr\", \"May\", \"Jun\", \"Jul\", \"Aug\", \"Sep\", \"Oct\", \"Nov\", \"Dec\"]\n",
        "Monthly Sales (in dollars): [5000, 5500, 6000, 6500, 7000, 7500, 8000, 8500, 9000, 9500, 10000, 10500]\n",
        "```\n",
        "Question:\n",
        "- Create a line plot to visualize the monthly sales trend for the year.\n",
        "- Customize the line to have a dashed line style (linestyle), green color (color), and square markers (marker).\n",
        "- Additionally, adjust the marker size and marker edge color to make the plot visually appealing.\n"
      ]
    },
    {
      "cell_type": "markdown",
      "source": [
        "**Question 2: Stock Price Analysis**\n",
        "\n",
        "Scenario: You are analyzing the daily closing prices of a stock for the last month. Your task is to create a line plot that represents the stock price trend with specific formatting.\n",
        "\n",
        "Input Data:\n",
        "```\n",
        "Dates: [1, 2, 3, 4, 5, 6, 7, 8, 9, 10, 11, 12, 13, 14, 15, 16, 17, 18, 19, 20, 21, 22, 23, 24, 25, 26, 27, 28, 29, 30]\n",
        "Closing Prices (in dollars): [50, 52, 53, 55, 54, 56, 58, 59, 58, 60, 61, 62, 63, 62, 64, 65, 66, 67, 68, 69, 70, 71, 70, 72, 73, 74, 75, 76, 77, 78]\n",
        "```\n",
        "Question:\n",
        "- Create a line plot to represent the daily stock closing prices.\n",
        "- Customize the line to have a dotted line style (linestyle), blue color (color), and diamond markers (marker).\n",
        "- Adjust the marker size and marker face color to enhance the plot's visual impact.\n"
      ],
      "metadata": {
        "id": "xz3jk-xGdh8j"
      },
      "id": "xz3jk-xGdh8j"
    },
    {
      "cell_type": "markdown",
      "source": [
        "**Question 3: Temperature Analysis**\n",
        "\n",
        "Scenario: You want to analyze the daily temperature variations in a city over the last week. Your goal is to create a line plot that highlights specific temperature data points.\n",
        "\n",
        "Input Data:\n",
        "```\n",
        "Days: [1, 2, 3, 4, 5, 6, 7]\n",
        "Daily High Temperatures (in degrees Celsius): [25, 26, 27, 28, 29, 30, 31]\n",
        "```\n",
        "Question:\n",
        "- Create a line plot to visualize the daily high temperatures for the week.\n",
        "- Customize the line to have a dash-dot line style (linestyle), red color (color), and circular markers (marker).\n",
        "- Adjust the marker size, marker edge color, and marker edge width to make the plot visually appealing.\n",
        "\n"
      ],
      "metadata": {
        "id": "0Rps2yTDdtq-"
      },
      "id": "0Rps2yTDdtq-"
    }
  ],
  "metadata": {
    "colab": {
      "provenance": [],
      "include_colab_link": true
    }
  },
  "nbformat": 4,
  "nbformat_minor": 5
}