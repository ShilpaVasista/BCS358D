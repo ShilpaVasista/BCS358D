{
  "nbformat": 4,
  "nbformat_minor": 0,
  "metadata": {
    "colab": {
      "provenance": [],
      "authorship_tag": "ABX9TyNNzeL8qqfMJkSUonwY7vpb",
      "include_colab_link": true
    },
    "kernelspec": {
      "name": "python3",
      "display_name": "Python 3"
    },
    "language_info": {
      "name": "python"
    }
  },
  "cells": [
    {
      "cell_type": "markdown",
      "metadata": {
        "id": "view-in-github",
        "colab_type": "text"
      },
      "source": [
        "<a href=\"https://colab.research.google.com/github/ShilpaVasista/BCS358D/blob/main/String%20Slicing.ipynb\" target=\"_parent\"><img src=\"https://colab.research.google.com/assets/colab-badge.svg\" alt=\"Open In Colab\"/></a>"
      ]
    },
    {
      "cell_type": "markdown",
      "source": [
        "### **String Slicing**\n",
        "String slicing in Python is a powerful and flexible way to manipulate strings. It allows you to extract a portion of a string or create a new string by selecting specific characters from the original string. The basic syntax for string slicing is:\n",
        "```\n",
        "Syntax: string[start:stop:step]\n",
        "```\n",
        "start: The index of the first character you want to include in the sliced string. It is inclusive.\n",
        "\n",
        "stop: The index of the first character you want to exclude from the sliced string. It is exclusive.\n",
        "\n",
        "step (optional): The step or increment between characters. It determines how many characters to skip. The default is 1.\n"
      ],
      "metadata": {
        "id": "dIE6Y77SK2Bt"
      }
    },
    {
      "cell_type": "markdown",
      "source": [
        "**Basic Slicing**"
      ],
      "metadata": {
        "id": "sRhWQmYaL05g"
      }
    },
    {
      "cell_type": "code",
      "source": [
        "# Define a string\n",
        "original_string = \"Hello, World!\"\n",
        "\n",
        "# Extract characters from index 0 to 5 (excluding 5)\n",
        "sliced_string = original_string[0:5]\n",
        "print(sliced_string)\n"
      ],
      "metadata": {
        "colab": {
          "base_uri": "https://localhost:8080/"
        },
        "id": "WAb5SPRLL6Gx",
        "outputId": "33f09578-812f-4b12-c41b-4b7a18b817cd"
      },
      "execution_count": 1,
      "outputs": [
        {
          "output_type": "stream",
          "name": "stdout",
          "text": [
            "Hello\n"
          ]
        }
      ]
    },
    {
      "cell_type": "markdown",
      "source": [
        "**Omitting Start or Stop**\n",
        "\n",
        "If you omit start, it defaults to the beginning of the string. If you omit stop, it defaults to the end of the string."
      ],
      "metadata": {
        "id": "C0vMIk1vL-4-"
      }
    },
    {
      "cell_type": "code",
      "source": [
        "# Omitting start\n",
        "sliced_string = original_string[:5]\n",
        "print(sliced_string)\n",
        "# Omitting stop\n",
        "sliced_string = original_string[7:]\n",
        "print(sliced_string)"
      ],
      "metadata": {
        "colab": {
          "base_uri": "https://localhost:8080/"
        },
        "id": "ct91MDUEMC2c",
        "outputId": "b63f617c-a2db-4c1d-8cc4-a14d5925958b"
      },
      "execution_count": 2,
      "outputs": [
        {
          "output_type": "stream",
          "name": "stdout",
          "text": [
            "Hello\n",
            "World!\n"
          ]
        }
      ]
    },
    {
      "cell_type": "markdown",
      "source": [
        "**Negative Indices**\n",
        "\n",
        "Negative indices count from the end of the string. -1 refers to the last character, -2 to the second-to-last, and so on.\n",
        "\n"
      ],
      "metadata": {
        "id": "qHL3aCUxMIsv"
      }
    },
    {
      "cell_type": "code",
      "source": [
        "# Extract the last three characters\n",
        "sliced_string = original_string[-3:]\n",
        "print(sliced_string)\n"
      ],
      "metadata": {
        "colab": {
          "base_uri": "https://localhost:8080/"
        },
        "id": "pPo1I5koML1u",
        "outputId": "8509f3e8-8758-4e05-f7e0-adbdc4a7f03b"
      },
      "execution_count": 3,
      "outputs": [
        {
          "output_type": "stream",
          "name": "stdout",
          "text": [
            "ld!\n"
          ]
        }
      ]
    },
    {
      "cell_type": "markdown",
      "source": [
        "**Step**\n",
        "\n",
        "You can use the step parameter to skip characters."
      ],
      "metadata": {
        "id": "_gde0koDMcFm"
      }
    },
    {
      "cell_type": "code",
      "source": [
        "# Extract every second character\n",
        "sliced_string = original_string[::2]\n",
        "print(sliced_string)\n",
        "\n",
        "# Reverse the string\n",
        "sliced_string = original_string[::-1]\n",
        "print(sliced_string)"
      ],
      "metadata": {
        "colab": {
          "base_uri": "https://localhost:8080/"
        },
        "id": "AhEIkg2-MgS7",
        "outputId": "ea665fad-6e98-4de9-f0b0-6680b79feb4e"
      },
      "execution_count": 4,
      "outputs": [
        {
          "output_type": "stream",
          "name": "stdout",
          "text": [
            "Hlo ol!\n",
            "!dlroW ,olleH\n"
          ]
        }
      ]
    }
  ]
}