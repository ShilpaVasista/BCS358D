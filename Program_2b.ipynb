{
  "nbformat": 4,
  "nbformat_minor": 0,
  "metadata": {
    "colab": {
      "provenance": [],
      "authorship_tag": "ABX9TyP7dpBgTBYHJcQjuOuHiI9a",
      "include_colab_link": true
    },
    "kernelspec": {
      "name": "python3",
      "display_name": "Python 3"
    },
    "language_info": {
      "name": "python"
    }
  },
  "cells": [
    {
      "cell_type": "markdown",
      "metadata": {
        "id": "view-in-github",
        "colab_type": "text"
      },
      "source": [
        "<a href=\"https://colab.research.google.com/github/ShilpaVasista/BCS358D/blob/main/Program_2b.ipynb\" target=\"_parent\"><img src=\"https://colab.research.google.com/assets/colab-badge.svg\" alt=\"Open In Colab\"/></a>"
      ]
    },
    {
      "cell_type": "markdown",
      "source": [
        "##Problem Statement and Introduction\n",
        "**Develop a python program to convert binary to decimal, octal to hexadecimal using functions.**\n",
        "\n",
        "The program Should provide users with a menu to select the type of conversion they want to perform. It will then take the user's input and display the converted result.\n",
        "\n"
      ],
      "metadata": {
        "id": "U-9ZtaV5kZWc"
      }
    },
    {
      "cell_type": "markdown",
      "source": [
        "**Step 1: Function Definitions**"
      ],
      "metadata": {
        "id": "oWwsbVwZk01f"
      }
    },
    {
      "cell_type": "markdown",
      "source": [
        "- Binary to Decimal Conversion\n",
        "\n",
        "we'll build a Python function to convert a binary string to its decimal equivalent. We'll take it step by step.\n",
        "\n",
        "\n"
      ],
      "metadata": {
        "id": "h4T29wHro-ht"
      }
    },
    {
      "cell_type": "markdown",
      "source": [
        "Define a function binary_to_decimal that takes a binary_str as input."
      ],
      "metadata": {
        "id": "bV20hNZvp1XA"
      }
    },
    {
      "cell_type": "code",
      "source": [],
      "metadata": {
        "id": "AW96ph8SqBnz"
      },
      "execution_count": null,
      "outputs": []
    },
    {
      "cell_type": "markdown",
      "source": [
        "Inside the function, initialize Variables\n",
        "    \n",
        "    decimal = 0 (to store the decimal result)\n",
        "    power = 0 (to keep track of the position or power of the bit)"
      ],
      "metadata": {
        "id": "NbYRtjZDpmex"
      }
    },
    {
      "cell_type": "code",
      "execution_count": null,
      "metadata": {
        "id": "HV3UCG7tjN2a"
      },
      "outputs": [],
      "source": []
    },
    {
      "cell_type": "markdown",
      "source": [
        "we start a loop that iterates through each bit in the binary string. We use reversed(binary_str) to go from right to left because in binary representation, the rightmost bit represents 2^0."
      ],
      "metadata": {
        "id": "QlQlElVFqSFF"
      }
    },
    {
      "cell_type": "code",
      "source": [],
      "metadata": {
        "id": "rvmmX0v3qTjC"
      },
      "execution_count": null,
      "outputs": []
    },
    {
      "cell_type": "markdown",
      "source": [
        "we check if the current bit is '1'. If it is, we add 2 ** power to the decimal value. This is how binary-to-decimal conversion works: each '1' bit contributes 2 raised to a certain power."
      ],
      "metadata": {
        "id": "wCOU1wGiqYEK"
      }
    },
    {
      "cell_type": "code",
      "source": [],
      "metadata": {
        "id": "XkS580paqZET"
      },
      "execution_count": null,
      "outputs": []
    },
    {
      "cell_type": "markdown",
      "source": [
        "We increment the power variable to move to the next bit position."
      ],
      "metadata": {
        "id": "jdgN_sK9qcqL"
      }
    },
    {
      "cell_type": "code",
      "source": [],
      "metadata": {
        "id": "oyaDCW8Mqhdw"
      },
      "execution_count": null,
      "outputs": []
    },
    {
      "cell_type": "markdown",
      "source": [
        "Finally, we return the decimal value, which is the decimal equivalent of the binary string."
      ],
      "metadata": {
        "id": "HwuHDAeAqh-l"
      }
    },
    {
      "cell_type": "code",
      "source": [],
      "metadata": {
        "id": "vIn8tmjQqiz_"
      },
      "execution_count": null,
      "outputs": []
    },
    {
      "cell_type": "markdown",
      "source": [
        "- Octal to Hexadecimal Conversion\n",
        "\n",
        "Now, let's build a Python function to convert an octal string to its hexadecimal equivalent."
      ],
      "metadata": {
        "id": "6SzqxeK3q24O"
      }
    },
    {
      "cell_type": "markdown",
      "source": [
        "we define a function octal_to_hexadecimal that takes an octal_str as input.\n"
      ],
      "metadata": {
        "id": "DDya3ZSgq-X_"
      }
    },
    {
      "cell_type": "code",
      "source": [],
      "metadata": {
        "id": "e-ScL8FxrVDD"
      },
      "execution_count": null,
      "outputs": []
    },
    {
      "cell_type": "markdown",
      "source": [
        "Inside the function, we perform two key operations.\n",
        "1. Convert Octal to Decimal\n",
        "\n",
        "we use the int() function to convert the octal string into its decimal equivalent. We specify the base as 8 because octal is base 8."
      ],
      "metadata": {
        "id": "ShViBj84rVeZ"
      }
    },
    {
      "cell_type": "code",
      "source": [],
      "metadata": {
        "id": "Zqnr9f7VrbqA"
      },
      "execution_count": null,
      "outputs": []
    },
    {
      "cell_type": "markdown",
      "source": [
        "2. Convert Decimal to Hexadecimal\n",
        "\n",
        "we use the hex() function to convert the decimal value into a hexadecimal string. We also use .upper() to make the resulting hexadecimal string uppercase.\n"
      ],
      "metadata": {
        "id": "oX9Io3x6riZd"
      }
    },
    {
      "cell_type": "code",
      "source": [],
      "metadata": {
        "id": "-IjLUEHUrrWv"
      },
      "execution_count": null,
      "outputs": []
    },
    {
      "cell_type": "markdown",
      "source": [
        "Return the Hexadecimal String"
      ],
      "metadata": {
        "id": "vM207r7qru40"
      }
    },
    {
      "cell_type": "code",
      "source": [],
      "metadata": {
        "id": "I8a84MO5ruI4"
      },
      "execution_count": null,
      "outputs": []
    },
    {
      "cell_type": "markdown",
      "source": [
        "**Step 2: Menu and User Input**\n",
        "\n",
        "- Create a menu that allows the user to choose between binary to decimal and octal to hexadecimal conversions. Display this menu to the user.\n",
        "\n",
        "- Take the user's choice as input (1 for binary to decimal, 2 for octal to hexadecimal)."
      ],
      "metadata": {
        "id": "jO9UarJ7lWjy"
      }
    },
    {
      "cell_type": "code",
      "source": [],
      "metadata": {
        "id": "xQRNro9uovXg"
      },
      "execution_count": null,
      "outputs": []
    },
    {
      "cell_type": "markdown",
      "source": [
        "**Step 3: Step 4: Binary to Decimal Conversion**\n",
        "- If the user chooses option 1 (binary to decimal), prompt the user to enter a binary number as a string.\n",
        "\n",
        "- Call the binary_to_decimal function with the user's input and display the result.\n"
      ],
      "metadata": {
        "id": "FhnGiHgUljD3"
      }
    },
    {
      "cell_type": "code",
      "source": [],
      "metadata": {
        "id": "d9pdKX_plyQV"
      },
      "execution_count": null,
      "outputs": []
    },
    {
      "cell_type": "markdown",
      "source": [
        "**Step 4: Octal to Hexadecimal Conversion**\n",
        "\n",
        "- If the user chooses option 2 (octal to hexadecimal), prompt the user to enter an octal number as a string.\n",
        "\n",
        "- Call the octal_to_hexadecimal function with the user's input and display the result.\n",
        "\n"
      ],
      "metadata": {
        "id": "8BzY4sUWl2HE"
      }
    },
    {
      "cell_type": "code",
      "source": [],
      "metadata": {
        "id": "mGRx2KTxl7Ok"
      },
      "execution_count": null,
      "outputs": []
    },
    {
      "cell_type": "markdown",
      "source": [
        "**Step 5: Handling Invalid Input**\n",
        "\n",
        "- Add error handling to handle invalid menu choices and non-numeric input.\n",
        "\n",
        "- Display appropriate error messages for invalid inputs."
      ],
      "metadata": {
        "id": "07-Oit7dmA-H"
      }
    },
    {
      "cell_type": "code",
      "source": [],
      "metadata": {
        "id": "g6osPMxuo4St"
      },
      "execution_count": null,
      "outputs": []
    }
  ]
}