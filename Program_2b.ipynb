{
  "nbformat": 4,
  "nbformat_minor": 0,
  "metadata": {
    "colab": {
      "provenance": [],
      "authorship_tag": "ABX9TyMQwpiwMGYJNRPsp8jB0ynI",
      "include_colab_link": true
    },
    "kernelspec": {
      "name": "python3",
      "display_name": "Python 3"
    },
    "language_info": {
      "name": "python"
    }
  },
  "cells": [
    {
      "cell_type": "markdown",
      "metadata": {
        "id": "view-in-github",
        "colab_type": "text"
      },
      "source": [
        "<a href=\"https://colab.research.google.com/github/ShilpaVasista/BCS358D/blob/main/Program_2b.ipynb\" target=\"_parent\"><img src=\"https://colab.research.google.com/assets/colab-badge.svg\" alt=\"Open In Colab\"/></a>"
      ]
    },
    {
      "cell_type": "markdown",
      "source": [
        "##Problem Statement and Introduction\n",
        "**Develop a python program to convert binary to decimal, octal to hexadecimal using functions.**\n",
        "\n",
        "The program Should provide users with a menu to select the type of conversion they want to perform. It will then take the user's input and display the converted result.\n",
        "\n"
      ],
      "metadata": {
        "id": "U-9ZtaV5kZWc"
      }
    },
    {
      "cell_type": "markdown",
      "source": [
        "Program Workflow:\n",
        "1. Display the menu options.\n",
        "2. Accept user choice.\n",
        "3. If the choice is 1, call the function bin_to_int(n).\n",
        "4. If the choice is 2, call the function oct_to_hex(n).\n",
        "5. If the choice is 3, exit the program.\n",
        "6. If the choice is invalid, prompt the user to enter a valid choice."
      ],
      "metadata": {
        "id": "cZmnk1gNG-WX"
      }
    },
    {
      "cell_type": "markdown",
      "source": [
        "**Step 1: Function Definitions**"
      ],
      "metadata": {
        "id": "oWwsbVwZk01f"
      }
    },
    {
      "cell_type": "markdown",
      "source": [
        "def display_menu():\n",
        "\n",
        "    \n",
        "    Displays the menu with options for binary to decimal conversion, octal to hexadecimal conversion, and quitting the program.\n",
        "\n"
      ],
      "metadata": {
        "id": "98a1rZ6iL_Ni"
      }
    },
    {
      "cell_type": "markdown",
      "source": [
        "def bin_to_dec(binary_num):\n",
        "    \n",
        "\n",
        "    Convert a binary number to its decimal equivalent using the int function.\n",
        "\n",
        "    Parameters:\n",
        "    - binary_num, 2\n",
        "\n",
        "    Returns:\n",
        "    - Decimal equivalent of the binary number.\n",
        "  "
      ],
      "metadata": {
        "id": "Tr2hIiR-MO5Z"
      }
    },
    {
      "cell_type": "markdown",
      "source": [
        "def oct_to_hex(octal_num):\n",
        "    \n",
        "\n",
        "    Convert an octal number to its hexadecimal equivalent using int() and hex().\n",
        "\n",
        "    Syntax for octal to decimal: dec_num = int(octal_num,8)\n",
        "    Syntax for decimal to hexadecimal: hex(dec_num)\n",
        "    Returns:\n",
        "      Hexadecimal equivalent of the octal number.\n",
        "\n"
      ],
      "metadata": {
        "id": "_aGfytJvM9mV"
      }
    },
    {
      "cell_type": "markdown",
      "source": [
        "**Step 2: Menu and User Input**\n",
        "\n",
        "- while True:\n",
        "  Call the display_menu()\n",
        "\n",
        "  Take the user's choice using input() (1 for binary to decimal, 2 for octal to hexadecimal, 3 for quitting the program)."
      ],
      "metadata": {
        "id": "jO9UarJ7lWjy"
      }
    },
    {
      "cell_type": "code",
      "source": [],
      "metadata": {
        "id": "JBbu4Bv-O3WO"
      },
      "execution_count": null,
      "outputs": []
    },
    {
      "cell_type": "markdown",
      "source": [
        "**Step 3:**\n",
        "  \n",
        "    If choice == 1 call bin_to_dec()      \n",
        "    elif choice == 2 call oct_to_hex()\n",
        "    elif choice == 3 break\n",
        "    else print \"Invalid Choice\""
      ],
      "metadata": {
        "id": "F68HoFXKOSHO"
      }
    },
    {
      "cell_type": "code",
      "source": [],
      "metadata": {
        "id": "xQRNro9uovXg"
      },
      "execution_count": null,
      "outputs": []
    }
  ]
}