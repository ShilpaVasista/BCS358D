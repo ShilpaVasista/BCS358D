{
  "cells": [
    {
      "cell_type": "markdown",
      "metadata": {
        "id": "view-in-github",
        "colab_type": "text"
      },
      "source": [
        "<a href=\"https://colab.research.google.com/github/ShilpaVasista/BCS358D/blob/main/8b_Types_of_Bokeh_Plots.ipynb\" target=\"_parent\"><img src=\"https://colab.research.google.com/assets/colab-badge.svg\" alt=\"Open In Colab\"/></a>"
      ]
    },
    {
      "cell_type": "markdown",
      "id": "d30665d7",
      "metadata": {
        "id": "d30665d7"
      },
      "source": [
        "# Program for plotting different types of plots using Bokeh.\n"
      ]
    },
    {
      "cell_type": "markdown",
      "id": "03b93212",
      "metadata": {
        "id": "03b93212"
      },
      "source": [
        "Write a Python program for plotting different types of plots using Bokeh."
      ]
    },
    {
      "cell_type": "markdown",
      "id": "08c12f3c",
      "metadata": {
        "id": "08c12f3c"
      },
      "source": [
        "## Problem Statement and Introduction\n",
        "The goal is to create different types of plots to represent different datasets.\n",
        "\n",
        "In this lab, you will be working with sample data and Bokeh to create line plots, bar plots, scatter plots, and a pie chart.\n",
        "\n",
        "Create a Bokeh application that generates three different types of plots: a line plot, a bar plot, and a scatter plot, Customize each plot according to the given specifications:\n",
        "\n",
        "- For the line plot, ensure that it has a title, labeled axes, and a legend.\n",
        "- For the bar plot, use appropriate colors, labels, and ensure it has a title.\n",
        "- For the scatter plot, set the marker size, color, and ensure it has a title.\n",
        "- Run the program to generate the plots and save them to an HTML file.\n"
      ]
    },
    {
      "cell_type": "code",
      "execution_count": null,
      "id": "98445f3d",
      "metadata": {
        "id": "98445f3d"
      },
      "outputs": [],
      "source": [
        "%matplotlib inline"
      ]
    },
    {
      "cell_type": "markdown",
      "id": "a0d5934b",
      "metadata": {
        "id": "a0d5934b"
      },
      "source": [
        "## Step 1: Import Bokeh"
      ]
    },
    {
      "cell_type": "code",
      "execution_count": null,
      "id": "d9660300",
      "metadata": {
        "id": "d9660300"
      },
      "outputs": [],
      "source": [
        "from bokeh.plotting import figure, show\n",
        "from bokeh.io import output_file\n",
        "from bokeh.layouts import gridplot\n",
        "import numpy as np"
      ]
    },
    {
      "cell_type": "markdown",
      "id": "b0efb91c",
      "metadata": {
        "id": "b0efb91c"
      },
      "source": [
        "## Step 2: Prepare Data"
      ]
    },
    {
      "cell_type": "code",
      "execution_count": null,
      "id": "48b0f77a",
      "metadata": {
        "id": "48b0f77a"
      },
      "outputs": [],
      "source": [
        "# Create random data\n",
        "x = np.linspace(0, 4 * np.pi, 100)\n",
        "y1 = np.sin(x)\n",
        "y2 = np.cos(x)\n",
        "categories = ['Category A', 'Category B', 'Category C']\n",
        "values = [4, 7, 5]\n"
      ]
    },
    {
      "cell_type": "markdown",
      "id": "7ef4cb44",
      "metadata": {
        "id": "7ef4cb44"
      },
      "source": [
        "## Step 3: Create a Line Plot"
      ]
    },
    {
      "cell_type": "code",
      "source": [
        "# Create a line plot\n",
        "line_plot = figure(title=\"Line Plot\", width=400, height=400)\n",
        "line_plot.line(x, y1, line_width=2, line_color='blue', legend_label='sin(x)')\n",
        "line_plot.line(x, y2, line_width=2, line_color='red', legend_label='cos(x)')\n",
        "line_plot.legend.location = \"top_left\"\n"
      ],
      "metadata": {
        "id": "j64NvtsxnZSf"
      },
      "id": "j64NvtsxnZSf",
      "execution_count": null,
      "outputs": []
    },
    {
      "cell_type": "markdown",
      "source": [
        "## Step 4: Create a Bar Plot"
      ],
      "metadata": {
        "id": "tr3yvprAnfti"
      },
      "id": "tr3yvprAnfti"
    },
    {
      "cell_type": "code",
      "execution_count": null,
      "id": "67dd6f3e",
      "metadata": {
        "id": "67dd6f3e",
        "colab": {
          "base_uri": "https://localhost:8080/",
          "height": 34
        },
        "outputId": "1f0314b0-39ff-421e-b83f-b7a2b52f09c2"
      },
      "outputs": [
        {
          "output_type": "execute_result",
          "data": {
            "text/plain": [
              "GlyphRenderer(id='p1095', ...)"
            ],
            "text/html": [
              "<div style=\"display: table;\"><div style=\"display: table-row;\"><div style=\"display: table-cell;\"><b title=\"bokeh.models.renderers.glyph_renderer.GlyphRenderer\">GlyphRenderer</b>(</div><div style=\"display: table-cell;\">id&nbsp;=&nbsp;'p1095', <span id=\"p1099\" style=\"cursor: pointer;\">&hellip;)</span></div></div><div class=\"p1098\" style=\"display: none;\"><div style=\"display: table-cell;\"></div><div style=\"display: table-cell;\">coordinates&nbsp;=&nbsp;None,</div></div><div class=\"p1098\" style=\"display: none;\"><div style=\"display: table-cell;\"></div><div style=\"display: table-cell;\">data_source&nbsp;=&nbsp;ColumnDataSource(id='p1089', ...),</div></div><div class=\"p1098\" style=\"display: none;\"><div style=\"display: table-cell;\"></div><div style=\"display: table-cell;\">glyph&nbsp;=&nbsp;VBar(id='p1092', ...),</div></div><div class=\"p1098\" style=\"display: none;\"><div style=\"display: table-cell;\"></div><div style=\"display: table-cell;\">group&nbsp;=&nbsp;None,</div></div><div class=\"p1098\" style=\"display: none;\"><div style=\"display: table-cell;\"></div><div style=\"display: table-cell;\">hover_glyph&nbsp;=&nbsp;None,</div></div><div class=\"p1098\" style=\"display: none;\"><div style=\"display: table-cell;\"></div><div style=\"display: table-cell;\">js_event_callbacks&nbsp;=&nbsp;{},</div></div><div class=\"p1098\" style=\"display: none;\"><div style=\"display: table-cell;\"></div><div style=\"display: table-cell;\">js_property_callbacks&nbsp;=&nbsp;{},</div></div><div class=\"p1098\" style=\"display: none;\"><div style=\"display: table-cell;\"></div><div style=\"display: table-cell;\">level&nbsp;=&nbsp;'glyph',</div></div><div class=\"p1098\" style=\"display: none;\"><div style=\"display: table-cell;\"></div><div style=\"display: table-cell;\">muted&nbsp;=&nbsp;False,</div></div><div class=\"p1098\" style=\"display: none;\"><div style=\"display: table-cell;\"></div><div style=\"display: table-cell;\">muted_glyph&nbsp;=&nbsp;VBar(id='p1094', ...),</div></div><div class=\"p1098\" style=\"display: none;\"><div style=\"display: table-cell;\"></div><div style=\"display: table-cell;\">name&nbsp;=&nbsp;None,</div></div><div class=\"p1098\" style=\"display: none;\"><div style=\"display: table-cell;\"></div><div style=\"display: table-cell;\">nonselection_glyph&nbsp;=&nbsp;VBar(id='p1093', ...),</div></div><div class=\"p1098\" style=\"display: none;\"><div style=\"display: table-cell;\"></div><div style=\"display: table-cell;\">propagate_hover&nbsp;=&nbsp;False,</div></div><div class=\"p1098\" style=\"display: none;\"><div style=\"display: table-cell;\"></div><div style=\"display: table-cell;\">selection_glyph&nbsp;=&nbsp;'auto',</div></div><div class=\"p1098\" style=\"display: none;\"><div style=\"display: table-cell;\"></div><div style=\"display: table-cell;\">subscribed_events&nbsp;=&nbsp;PropertyValueSet(),</div></div><div class=\"p1098\" style=\"display: none;\"><div style=\"display: table-cell;\"></div><div style=\"display: table-cell;\">syncable&nbsp;=&nbsp;True,</div></div><div class=\"p1098\" style=\"display: none;\"><div style=\"display: table-cell;\"></div><div style=\"display: table-cell;\">tags&nbsp;=&nbsp;[],</div></div><div class=\"p1098\" style=\"display: none;\"><div style=\"display: table-cell;\"></div><div style=\"display: table-cell;\">view&nbsp;=&nbsp;CDSView(id='p1096', ...),</div></div><div class=\"p1098\" style=\"display: none;\"><div style=\"display: table-cell;\"></div><div style=\"display: table-cell;\">visible&nbsp;=&nbsp;True,</div></div><div class=\"p1098\" style=\"display: none;\"><div style=\"display: table-cell;\"></div><div style=\"display: table-cell;\">x_range_name&nbsp;=&nbsp;'default',</div></div><div class=\"p1098\" style=\"display: none;\"><div style=\"display: table-cell;\"></div><div style=\"display: table-cell;\">y_range_name&nbsp;=&nbsp;'default')</div></div></div>\n",
              "<script>\n",
              "(function() {\n",
              "  let expanded = false;\n",
              "  const ellipsis = document.getElementById(\"p1099\");\n",
              "  ellipsis.addEventListener(\"click\", function() {\n",
              "    const rows = document.getElementsByClassName(\"p1098\");\n",
              "    for (let i = 0; i < rows.length; i++) {\n",
              "      const el = rows[i];\n",
              "      el.style.display = expanded ? \"none\" : \"table-row\";\n",
              "    }\n",
              "    ellipsis.innerHTML = expanded ? \"&hellip;)\" : \"&lsaquo;&lsaquo;&lsaquo;\";\n",
              "    expanded = !expanded;\n",
              "  });\n",
              "})();\n",
              "</script>\n"
            ]
          },
          "metadata": {},
          "execution_count": 5
        }
      ],
      "source": [
        "# Create a bar plot\n",
        "bar_plot = figure(x_range=categories, title=\"Bar Plot\", width=400, height=400)\n",
        "bar_plot.vbar(x=categories, top=values, width=0.5, color='green')"
      ]
    },
    {
      "cell_type": "markdown",
      "source": [
        "## Step 5: Create a Scatter Plot"
      ],
      "metadata": {
        "id": "fgH_XZHNnkl5"
      },
      "id": "fgH_XZHNnkl5"
    },
    {
      "cell_type": "code",
      "source": [
        "# Create a scatter plot\n",
        "scatter_plot = figure(title=\"Scatter Plot\", width=400, height=400)\n",
        "scatter_plot.circle(x, y1, size=8, color='blue', legend_label='sin(x)')\n",
        "scatter_plot.circle(x, y2, size=8, color='red', legend_label='cos(x)')\n",
        "scatter_plot.legend.location = \"top_left\""
      ],
      "metadata": {
        "id": "4J6VUOeznpkA"
      },
      "id": "4J6VUOeznpkA",
      "execution_count": null,
      "outputs": []
    },
    {
      "cell_type": "markdown",
      "source": [
        "## Step 6: Create an output file and plot the graphs"
      ],
      "metadata": {
        "id": "FVsSeiQvnzC5"
      },
      "id": "FVsSeiQvnzC5"
    },
    {
      "cell_type": "code",
      "source": [
        "# Create an output HTML file\n",
        "output_file(\"bokeh_plots.html\")\n",
        "\n",
        "\n",
        "# Organize plots in a grid layout\n",
        "layout = gridplot([[scatter_plot, line_plot, bar_plot]])\n",
        "\n",
        "# Show the plots\n",
        "show(layout)\n"
      ],
      "metadata": {
        "id": "UUsF-5Thnv24"
      },
      "id": "UUsF-5Thnv24",
      "execution_count": null,
      "outputs": []
    }
  ],
  "metadata": {
    "colab": {
      "provenance": [],
      "include_colab_link": true
    },
    "language_info": {
      "name": "python"
    },
    "kernelspec": {
      "name": "python3",
      "display_name": "Python 3"
    }
  },
  "nbformat": 4,
  "nbformat_minor": 5
}