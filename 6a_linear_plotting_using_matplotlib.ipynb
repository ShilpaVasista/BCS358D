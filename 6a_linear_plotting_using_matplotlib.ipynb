{
  "cells": [
    {
      "cell_type": "markdown",
      "metadata": {
        "id": "view-in-github",
        "colab_type": "text"
      },
      "source": [
        "<a href=\"https://colab.research.google.com/github/ShilpaVasista/BCS358D/blob/main/6a_linear_plotting_using_matplotlib.ipynb\" target=\"_parent\"><img src=\"https://colab.research.google.com/assets/colab-badge.svg\" alt=\"Open In Colab\"/></a>"
      ]
    },
    {
      "cell_type": "markdown",
      "id": "800f9d3e",
      "metadata": {
        "id": "800f9d3e"
      },
      "source": [
        "# Linear Plotting using Matplotlib"
      ]
    },
    {
      "cell_type": "markdown",
      "id": "e499fbb7",
      "metadata": {
        "id": "e499fbb7"
      },
      "source": [
        "Write a Python program to illustrate linear plotting using Matplotlib."
      ]
    },
    {
      "cell_type": "markdown",
      "id": "d53a72b8",
      "metadata": {
        "id": "d53a72b8"
      },
      "source": [
        "## Problem Statement and Introduction\n",
        "1. Objective: The objective of this program is to analyze and visualize the monthly books read by a group of students using a linear plot.\n",
        "Tasks:\n",
        "\n",
        "- Collect the data for the number of books read by students in different months.\n",
        "- Create a Python program to generate a bar plot to visualize the data.\n",
        "- Label the x-axis with the months and the y-axis with the number of books read.\n",
        "- Customize the appearance of the bar plot, including color and title.\n",
        "- Display the bar plot.\n",
        "```\n",
        "months = ['Jan', 'Feb', 'Mar', 'Apr', 'May']\n",
        "books_read = [10, 12, 15, 9, 11]\n"
      ]
    },
    {
      "cell_type": "code",
      "execution_count": null,
      "id": "5f86d176",
      "metadata": {
        "id": "5f86d176"
      },
      "outputs": [],
      "source": [
        "%matplotlib inline"
      ]
    },
    {
      "cell_type": "markdown",
      "id": "69c452dd",
      "metadata": {
        "id": "69c452dd"
      },
      "source": [
        "## Step 1: Import Matplotlib"
      ]
    },
    {
      "cell_type": "code",
      "execution_count": null,
      "id": "9d0a4bee",
      "metadata": {
        "id": "9d0a4bee"
      },
      "outputs": [],
      "source": [
        "# Step 1: Import Matplotlib\n",
        "import matplotlib.pyplot as plt"
      ]
    },
    {
      "cell_type": "markdown",
      "id": "550761cb",
      "metadata": {
        "id": "550761cb"
      },
      "source": [
        "## Step 2: Prepare Data"
      ]
    },
    {
      "cell_type": "code",
      "execution_count": null,
      "id": "0d24027b",
      "metadata": {
        "id": "0d24027b"
      },
      "outputs": [],
      "source": [
        "# Step 2: Prepare Data\n",
        "# Define data points\n",
        "days = [1, 2, 3, 4, 5, 6, 7]\n",
        "temperatures = [25, 23, 27, 25, 29, 30, 31]"
      ]
    },
    {
      "cell_type": "markdown",
      "id": "1b3d5341",
      "metadata": {
        "id": "1b3d5341"
      },
      "source": [
        "## Step 3: Create a Linear Plot"
      ]
    },
    {
      "cell_type": "code",
      "execution_count": null,
      "id": "b49443b2",
      "metadata": {
        "id": "b49443b2"
      },
      "outputs": [],
      "source": [
        "# Step 3: Create a Linear Plot\n",
        "plt.plot(days, temperatures, marker='o', linestyle='-', color='b', label='Daily High Temperatures')"
      ]
    },
    {
      "cell_type": "markdown",
      "source": [
        "## Step 4: Customize the Plot"
      ],
      "metadata": {
        "id": "3ENXu2nZb9q_"
      },
      "id": "3ENXu2nZb9q_"
    },
    {
      "cell_type": "code",
      "source": [
        "# Step 4: Customize the Plot\n",
        "# Add labels and a title\n",
        "plt.xlabel('Day of the Week')\n",
        "plt.ylabel('Daily High Temperature (°C)')\n",
        "plt.title('Daily High Temperature Changes Over a Week')\n",
        "\n",
        "# Add grid lines\n",
        "plt.grid(True)\n",
        "\n",
        "# Add a legend\n",
        "plt.legend()\n"
      ],
      "metadata": {
        "id": "OmA8REQOb-We"
      },
      "id": "OmA8REQOb-We",
      "execution_count": null,
      "outputs": []
    },
    {
      "cell_type": "markdown",
      "source": [
        "## Step 5: Display the plot"
      ],
      "metadata": {
        "id": "bn0CaEV9cMTQ"
      },
      "id": "bn0CaEV9cMTQ"
    },
    {
      "cell_type": "code",
      "source": [
        "# Step 5: Display the plot\n",
        "plt.show()"
      ],
      "metadata": {
        "id": "uulpeaoFcM9_"
      },
      "id": "uulpeaoFcM9_",
      "execution_count": null,
      "outputs": []
    },
    {
      "cell_type": "markdown",
      "source": [
        "2. Question for Evaluation:\n",
        "\n",
        "Scenario: Imagine you're a business owner who wants to monitor the monthly sales growth of your store over the past year. You have the monthly sales data for 12 months.\n",
        "\n",
        "Question: Visualize the monthly sales growth for the past year using a linear plot?\n",
        "\n",
        "Input Data:\n",
        "```\n",
        "Months: [\"Jan\", \"Feb\", \"Mar\", \"Apr\", \"May\", \"Jun\", \"Jul\", \"Aug\", \"Sep\", \"Oct\", \"Nov\", \"Dec\"]\n",
        "Monthly Sales (in dollars): [5000, 5500, 6000, 6500, 7000, 7500, 8000, 8500, 9000, 9500, 10000, 10500]\n",
        "```"
      ],
      "metadata": {
        "id": "e8u1kSo-cSjE"
      },
      "id": "e8u1kSo-cSjE"
    }
  ],
  "metadata": {
    "colab": {
      "provenance": [],
      "include_colab_link": true
    }
  },
  "nbformat": 4,
  "nbformat_minor": 5
}