{
  "cells": [
    {
      "cell_type": "markdown",
      "metadata": {
        "id": "view-in-github",
        "colab_type": "text"
      },
      "source": [
        "<a href=\"https://colab.research.google.com/github/ShilpaVasista/BCS358D/blob/main/7_customizing_seaborn_plots.ipynb\" target=\"_parent\"><img src=\"https://colab.research.google.com/assets/colab-badge.svg\" alt=\"Open In Colab\"/></a>"
      ]
    },
    {
      "cell_type": "markdown",
      "id": "b9b44baf",
      "metadata": {
        "id": "b9b44baf"
      },
      "source": [
        "# Customizing Seaborn Plots"
      ]
    },
    {
      "cell_type": "markdown",
      "id": "0c3c3780",
      "metadata": {
        "id": "0c3c3780"
      },
      "source": [
        "Write a Python program to explain the uses of customizing Seaborn plots with Aesthetic functions."
      ]
    },
    {
      "cell_type": "markdown",
      "source": [
        "##Introduction to Seaborn\n",
        "- Seaborn is a visualization library for plotting statistical graphs in Python.\n",
        "- It is built on top of matplotlib library and is closely integrated with the data structures from pandas.\n",
        "- Seaborn comes with a number of customized themes and a high - level interface for controlling the look of matplotlib figures.\n",
        "- key components of aesthetics in seaborn may include:\n",
        "  - Themes: Allows users to apply different visual themes to their plots\n",
        "  - Color Palettes: provides variety of color palettes. Six variations of palettes are:\n",
        "    - deep\n",
        "    - muted\n",
        "    - pastel\n",
        "    - bright\n",
        "    - dark\n",
        "    - colorblind\n",
        "  - Styles: Users can choose styles that match their requirements as per data. 5 built-in themes are\n",
        "    - darkgrid\n",
        "    - whitegrid\n",
        "    - dark\n",
        "    - white\n",
        "    - ticks\n",
        "  - Context: Allows users to control the size of elements in the plots such as the font size and scale of plot elements.\n",
        "    - notebook: default context for Jupyter notebooks\n",
        "    - paper: suitable for plots integrated into a document like scientific paper\n",
        "    - talk: Suitable for giving presentations\n",
        "    - poster: suitable for creating visualizations for posters.\n"
      ],
      "metadata": {
        "id": "PFEDNfm2V8ly"
      },
      "id": "PFEDNfm2V8ly"
    },
    {
      "cell_type": "markdown",
      "source": [
        "Use Seaborn and Matplotlib to generate a 2D dataset of random whole numbers, create a box plot to visualize its distribution, and then display the plot with an appropriate title?"
      ],
      "metadata": {
        "id": "mwi0bmdUYI2e"
      },
      "id": "mwi0bmdUYI2e"
    },
    {
      "cell_type": "code",
      "source": [
        "import seaborn as sns\n",
        "import matplotlib.pyplot as plt\n",
        "import numpy as np\n",
        "\n",
        "# Generating a 2D dataset of whole numbers\n",
        "np.random.seed(42)  # Setting seed for reproducibility\n",
        "data_2d = np.random.randint(low=1, high=20, size=(10, 5))\n",
        "print(data_2d)\n",
        "\n",
        "# Set style, palette and context\n",
        "# sns.set_style(\"ticks\")\n",
        "# sns.set_palette(\"muted\")\n",
        "# sns.set_context(\"paper\")\n",
        "\n",
        "# or\n",
        "\n",
        "# set theme\n",
        "sns.set_theme(style=\"darkgrid\", palette=\"bright\", context=\"poster\", font=\"sans-serif\", font_scale=1)\n",
        "\n",
        "# Creating a box plot\n",
        "sns.boxplot(data=data_2d)\n",
        "\n",
        "# Show the plot\n",
        "plt.title(\"Box Plot for 2D Dataset\")\n",
        "plt.show()"
      ],
      "metadata": {
        "id": "mTeHdjM1Y6hN"
      },
      "id": "mTeHdjM1Y6hN",
      "execution_count": null,
      "outputs": []
    }
  ],
  "metadata": {
    "colab": {
      "provenance": [],
      "include_colab_link": true
    },
    "language_info": {
      "name": "python"
    },
    "kernelspec": {
      "name": "python3",
      "display_name": "Python 3"
    }
  },
  "nbformat": 4,
  "nbformat_minor": 5
}