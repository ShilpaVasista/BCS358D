{
  "cells": [
    {
      "cell_type": "markdown",
      "metadata": {
        "id": "view-in-github",
        "colab_type": "text"
      },
      "source": [
        "<a href=\"https://colab.research.google.com/github/ShilpaVasista/BCS358D/blob/main/7_customizing_seaborn_plots.ipynb\" target=\"_parent\"><img src=\"https://colab.research.google.com/assets/colab-badge.svg\" alt=\"Open In Colab\"/></a>"
      ]
    },
    {
      "cell_type": "markdown",
      "id": "b9b44baf",
      "metadata": {
        "id": "b9b44baf"
      },
      "source": [
        "# Customizing Seaborn Plots"
      ]
    },
    {
      "cell_type": "markdown",
      "id": "0c3c3780",
      "metadata": {
        "id": "0c3c3780"
      },
      "source": [
        "Write a Python program to explain the uses of customizing Seaborn plots with Aesthetic functions."
      ]
    },
    {
      "cell_type": "markdown",
      "source": [
        "##Introduction to Seaborn\n",
        "- Seaborn is a visualization library for plotting statistical graphs in Python.\n",
        "- It is built on top of matplotlib library and is closely integrated with the data structures from pandas.\n",
        "- Seaborn comes with a number of customized themes and a high - level interface for controlling the look of matplotlib figures.\n",
        "- key components of aesthetics in seaborn may include:\n",
        "  - Themes: Allows users to apply different visual themes to their plots\n",
        "  - Color Palettes: provides variety of color palettes. Six variations of palettes are:\n",
        "    - deep\n",
        "    - muted\n",
        "    - pastel\n",
        "    - bright\n",
        "    - dark\n",
        "    - colorblind\n",
        "  - Styles: Users can choose styles that match their requirements as per data. 5 built-in themes are\n",
        "    - darkgrid\n",
        "    - whitegrid\n",
        "    - dark\n",
        "    - white\n",
        "    - ticks\n",
        "  - Context: Allows users to control the size of elements in the plots such as the font size and scale of plot elements.\n",
        "    - notebook: default context for Jupyter notebooks\n",
        "    - paper: suitable for plots integrated into a document like scientific paper\n",
        "    - talk: Suitable for giving presentations\n",
        "    - poster: suitable for creating visualizations for posters.\n"
      ],
      "metadata": {
        "id": "PFEDNfm2V8ly"
      },
      "id": "PFEDNfm2V8ly"
    },
    {
      "cell_type": "markdown",
      "source": [
        "Use Seaborn and Matplotlib to generate a 2D dataset of random whole numbers, create a box plot to visualize its distribution, and then display the plot with an appropriate title?"
      ],
      "metadata": {
        "id": "mwi0bmdUYI2e"
      },
      "id": "mwi0bmdUYI2e"
    },
    {
      "cell_type": "code",
      "source": [
        "import seaborn as sns\n",
        "import matplotlib.pyplot as plt\n",
        "import numpy as np\n",
        "\n",
        "# Generating a 2D dataset of whole numbers\n",
        "np.random.seed(42)  # Setting seed for reproducibility\n",
        "data_2d = np.random.randint(low=1, high=20, size=(10, 5))\n",
        "print(data_2d)\n",
        "\n",
        "# Set style, palette and context\n",
        "# sns.set_style(\"ticks\")\n",
        "# sns.set_palette(\"muted\")\n",
        "# sns.set_context(\"paper\")\n",
        "\n",
        "# or\n",
        "\n",
        "# set theme\n",
        "sns.set_theme(style=\"darkgrid\", palette=\"bright\", context=\"poster\", font=\"sans-serif\", font_scale=1)\n",
        "\n",
        "# Creating a box plot\n",
        "sns.boxplot(data=data_2d)\n",
        "\n",
        "# Show the plot\n",
        "plt.title(\"Box Plot for 2D Dataset\")\n",
        "plt.show()"
      ],
      "metadata": {
        "colab": {
          "base_uri": "https://localhost:8080/",
          "height": 665
        },
        "id": "mTeHdjM1Y6hN",
        "outputId": "89ee0548-9ff0-4bac-d80b-9146cdd37639"
      },
      "id": "mTeHdjM1Y6hN",
      "execution_count": 6,
      "outputs": [
        {
          "output_type": "stream",
          "name": "stdout",
          "text": [
            "[[ 7 15 11  8  7]\n",
            " [19 11 11  4  8]\n",
            " [ 3  2 12  6  2]\n",
            " [ 1 12 12 17 10]\n",
            " [16 15 15 19 12]\n",
            " [ 3  5 19  7  9]\n",
            " [ 7 18  4 14 18]\n",
            " [ 9  2 15  7 12]\n",
            " [ 8 15  3 14 17]\n",
            " [ 4 18  8  4  2]]\n"
          ]
        },
        {
          "output_type": "display_data",
          "data": {
            "text/plain": [
              "<Figure size 640x480 with 1 Axes>"
            ],
            "image/png": "[encoded data removed]"
          },
          "metadata": {}
        }
      ]
    },
    {
      "cell_type": "markdown",
      "source": [
        "##Assignment Questions"
      ],
      "metadata": {
        "id": "jFCEowW9ZeiQ"
      },
      "id": "jFCEowW9ZeiQ"
    },
    {
      "cell_type": "markdown",
      "id": "9f7c3294",
      "metadata": {
        "id": "9f7c3294"
      },
      "source": [
        "## Problem Statement and Introduction\n",
        "The objective of this exercise is to analyze the distribution of ages among survey participants and create a histogram plot to visualize this distribution using Seaborn and Matplotlib.\n",
        "Use the below data:\n",
        "```\n",
        "ages = [25, 30, 32, 35, 38, 40, 42, 45, 47, 50, 52, 55, 58, 60, 65, 68, 70]\n"
      ]
    },
    {
      "cell_type": "code",
      "execution_count": null,
      "id": "0c27e92f",
      "metadata": {
        "id": "0c27e92f"
      },
      "outputs": [],
      "source": [
        "%matplotlib inline"
      ]
    },
    {
      "cell_type": "markdown",
      "id": "52b6ef02",
      "metadata": {
        "id": "52b6ef02"
      },
      "source": [
        "## Step 1: Import Seaborn"
      ]
    },
    {
      "cell_type": "code",
      "execution_count": null,
      "id": "d780b5c2",
      "metadata": {
        "id": "d780b5c2"
      },
      "outputs": [],
      "source": [
        "# Step 1: Import Seaborn\n",
        "import seaborn as sns\n",
        "import matplotlib.pyplot as plt"
      ]
    },
    {
      "cell_type": "markdown",
      "id": "91a07773",
      "metadata": {
        "id": "91a07773"
      },
      "source": [
        "## Step 2: Load Sample Data"
      ]
    },
    {
      "cell_type": "code",
      "execution_count": null,
      "id": "d140a2f6",
      "metadata": {
        "id": "d140a2f6"
      },
      "outputs": [],
      "source": [
        "# Step 2: Load Sample Data\n",
        "# Sample dataset: Ages of survey participants\n",
        "ages = [25, 30, 32, 35, 38, 40, 42, 45, 47, 50, 52, 55, 58, 60, 65, 68, 70]"
      ]
    },
    {
      "cell_type": "markdown",
      "id": "0cc4400d",
      "metadata": {
        "id": "0cc4400d"
      },
      "source": [
        "## Step 3: Customize Seaborn Plots"
      ]
    },
    {
      "cell_type": "code",
      "execution_count": null,
      "id": "2ce781da",
      "metadata": {
        "id": "2ce781da"
      },
      "outputs": [],
      "source": [
        "# Step 3: Customize Seaborn Plots\n",
        "# Customize the Seaborn plot aesthetics\n",
        "sns.set(style=\"whitegrid\", palette=\"pastel\")\n",
        "\n",
        "# Add labels and a title\n",
        "plt.xlabel(\"Age\")\n",
        "plt.ylabel(\"Frequency\")\n",
        "plt.title(\"Distribution of Ages in Survey Participants\")\n"
      ]
    },
    {
      "cell_type": "markdown",
      "source": [
        "## Step 4: Display the Plot"
      ],
      "metadata": {
        "id": "vjxzbUekjd29"
      },
      "id": "vjxzbUekjd29"
    },
    {
      "cell_type": "code",
      "source": [
        "#Step 4: Display the Plot\n",
        "# Display the plot\n",
        "plt.show()"
      ],
      "metadata": {
        "id": "_oj5ikIghjMi"
      },
      "id": "_oj5ikIghjMi",
      "execution_count": null,
      "outputs": []
    },
    {
      "cell_type": "markdown",
      "source": [
        "Introduction:\n",
        "In this assignment, you will explore data visualization techniques using the Seaborn and Matplotlib libraries in Python. You will work with various datasets and perform tasks such as creating customized histograms, scatter plots, box plots, bar plots, line plots, and more.\n",
        "\n",
        "**Task 1: Customized Histogram Plotting**\n",
        "Question :\n",
        "You are given a dataset of exam scores (out of 100) for a class of 50 students. Use Seaborn to create a histogram of the exam scores. Customize the plot by adding appropriate labels to the axes and a title. Adjust the bin size and color for better visualization.\n",
        "Data:\n",
        "```\n",
        "exam_scores = [72, 88, 94, 56, 78, 62, 85, 90, 77, 68,\n",
        "               73, 89, 65, 81, 79, 92, 96, 75, 84, 87,\n",
        "               70, 91, 74, 67, 98, 83, 76, 71, 66, 69,\n",
        "               82, 59, 63, 95, 60, 55, 64, 86, 97, 61,\n",
        "               80, 58, 53, 54, 57, 99, 50, 51, 52, 48]\n",
        "```\n"
      ],
      "metadata": {
        "id": "XiLIZpLZh3AC"
      },
      "id": "XiLIZpLZh3AC"
    },
    {
      "cell_type": "code",
      "source": [],
      "metadata": {
        "id": "JUmf4z7VivYn"
      },
      "id": "JUmf4z7VivYn",
      "execution_count": null,
      "outputs": []
    },
    {
      "cell_type": "markdown",
      "source": [
        "**Task 2: Scatter Plot Customization**\n",
        "Question:\n",
        "Generate synthetic data for the heights and weights of 100 individuals. Create a scatter plot to visualize the relationship between height and weight. Use Seaborn to customize the scatter plot by adding labels to the axes, a title, and differentiating data points by gender.\n",
        "Data:\n",
        "```\n",
        "import random\n",
        "heights = [random.uniform(150, 190) for _ in range(100)]\n",
        "weights = [random.uniform(50, 100) for _ in range(100)]\n",
        "genders = ['Male' if random.random() < 0.5 else 'Female' for _ in range(100)]\n",
        "```\n",
        "\n"
      ],
      "metadata": {
        "id": "xsyUUJ_3iv34"
      },
      "id": "xsyUUJ_3iv34"
    },
    {
      "cell_type": "code",
      "source": [],
      "metadata": {
        "id": "kkEJPOqEi03i"
      },
      "id": "kkEJPOqEi03i",
      "execution_count": null,
      "outputs": []
    },
    {
      "cell_type": "markdown",
      "source": [
        "**Task 3: Box Plot with Hue**\n",
        "Question:\n",
        "Simulate sales data for a store in different regions and months. Organize the data into datasets for each region and month. Create a box plot using Seaborn to visualize the distribution of sales across regions. Use the 'hue' parameter to differentiate data by month. Customize labels and titles.\n",
        "Data:\n",
        "```\n",
        "import random\n",
        "\n",
        "regions = ['North', 'South', 'East', 'West']\n",
        "months = ['Jan', 'Feb', 'Mar', 'Apr', 'May']\n",
        "\n",
        "sales_data = []\n",
        "\n",
        "for region in regions:\n",
        "    for month in months:\n",
        "        sales = [random.randint(1000, 5000) for _ in range(20)]\n",
        "        sales_data.extend([(region, month, sale) for sale in sales])\n",
        "```\n",
        "\n"
      ],
      "metadata": {
        "id": "IFqcXhvQi1YH"
      },
      "id": "IFqcXhvQi1YH"
    },
    {
      "cell_type": "code",
      "source": [],
      "metadata": {
        "id": "kgZ15iMPi8Kk"
      },
      "id": "kgZ15iMPi8Kk",
      "execution_count": null,
      "outputs": []
    },
    {
      "cell_type": "markdown",
      "source": [
        "**Task 4: Bar Plot Customization**\n",
        "Question:\n",
        "Collect survey data on students' favorite ice cream flavors. Categorize the responses into different flavors and count the number of times each flavor was chosen. Create a bar plot using Seaborn to visualize the survey results. Customize the plot by labeling bars and adding a title.\n",
        "Data:\n",
        "```\n",
        "ice_cream_flavors = ['Vanilla', 'Chocolate', 'Strawberry', 'Mint', 'Rocky Road']\n",
        "survey_data = [random.choice(ice_cream_flavors) for _ in range(200)]\n",
        "```\n",
        "\n"
      ],
      "metadata": {
        "id": "JknkaFKui8lX"
      },
      "id": "JknkaFKui8lX"
    },
    {
      "cell_type": "code",
      "source": [],
      "metadata": {
        "id": "P95aK4V7jAz8"
      },
      "id": "P95aK4V7jAz8",
      "execution_count": null,
      "outputs": []
    },
    {
      "cell_type": "markdown",
      "source": [
        "**Task 5: Line Plot with Context**\n",
        "Question:\n",
        "Generate synthetic temperature data for a city over a year, simulating daily temperature fluctuations. Use Seaborn to create a line plot to visualize the temperature changes over time. Customize the plot by adjusting the line style, adding labels, and setting a title. Use a context style of your choice.\n",
        "Data:\n",
        "```\n",
        "import random\n",
        "import datetime\n",
        "start_date = datetime.date(2023, 1, 1)\n",
        "end_date = datetime.date(2023, 12, 31)\n",
        "delta = datetime.timedelta(days=1)\n",
        "dates = []\n",
        "temperatures = []\n",
        "current_date = start_date\n",
        "current_temp = 20  # Starting temperature\n",
        "while current_date <= end_date:\n",
        "    dates.append(current_date)\n",
        "    temperatures.append(current_temp)\n",
        "    current_date += delta\n",
        "    # Simulate random temperature fluctuations\n",
        "    current_temp += random.uniform(-5, 5)\n",
        "```\n",
        "\n"
      ],
      "metadata": {
        "id": "6P1XckJAjBT3"
      },
      "id": "6P1XckJAjBT3"
    },
    {
      "cell_type": "code",
      "source": [],
      "metadata": {
        "id": "plDEtxHCjDKX"
      },
      "id": "plDEtxHCjDKX",
      "execution_count": null,
      "outputs": []
    },
    {
      "cell_type": "markdown",
      "source": [
        "**Task 6: Context and Save Plot**\n",
        "Question:\n",
        "Simulate plant growth data for different plant species over a year. Create line plots for each plant species to visualize their growth patterns. Customize the plots by adjusting the context style, labels, and titles. Save the plots as image files (e.g., PNG or PDF).\n",
        "Data:\n",
        "```\n",
        "import random\n",
        "\n",
        "plant_species = ['Rose', 'Tulip', 'Daisy', 'Sunflower']\n",
        "growth_data = []\n",
        "\n",
        "for species in plant_species:\n",
        "    growth = [random.uniform(10, 30) for _ in range(12)]\n",
        "    growth_data.append((species, growth))\n",
        "```"
      ],
      "metadata": {
        "id": "PAeb6oFYjDuO"
      },
      "id": "PAeb6oFYjDuO"
    },
    {
      "cell_type": "code",
      "source": [],
      "metadata": {
        "id": "ioU3TvuajJfl"
      },
      "id": "ioU3TvuajJfl",
      "execution_count": null,
      "outputs": []
    }
  ],
  "metadata": {
    "colab": {
      "provenance": [],
      "include_colab_link": true
    },
    "language_info": {
      "name": "python"
    },
    "kernelspec": {
      "name": "python3",
      "display_name": "Python 3"
    }
  },
  "nbformat": 4,
  "nbformat_minor": 5
}