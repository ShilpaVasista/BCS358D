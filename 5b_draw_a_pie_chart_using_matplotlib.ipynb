{
  "cells": [
    {
      "cell_type": "markdown",
      "metadata": {
        "id": "view-in-github",
        "colab_type": "text"
      },
      "source": [
        "<a href=\"https://colab.research.google.com/github/ShilpaVasista/BCS358D/blob/main/5b_draw_a_pie_chart_using_matplotlib.ipynb\" target=\"_parent\"><img src=\"https://colab.research.google.com/assets/colab-badge.svg\" alt=\"Open In Colab\"/></a>"
      ]
    },
    {
      "cell_type": "markdown",
      "id": "d4954e85",
      "metadata": {
        "id": "d4954e85"
      },
      "source": [
        "# Draw a Pie Chart using Matplotlib"
      ]
    },
    {
      "cell_type": "markdown",
      "id": "e227928e",
      "metadata": {
        "id": "e227928e"
      },
      "source": [
        "Write a Python program to demonstrate how to draw a pie chart using Matplotlib."
      ]
    },
    {
      "cell_type": "markdown",
      "id": "3d951aa2",
      "metadata": {
        "id": "3d951aa2"
      },
      "source": [
        "## Problem Statement and Introduction\n",
        "Objective: Learn how to create a  Pie Chart using Matplotlib.\n",
        "Question:\n",
        "\n",
        "You are managing your monthly budget, and you want to visualize your expenses in various categories. Using the provided Python program, create a pie chart that represents the distribution of expenses in your budget. The program includes expense categories and corresponding amounts. Customize the pie chart's appearance and labels to make it informative and visually appealing.\n",
        "After running the program, analyze the pie chart and answer the following questions:\n",
        "What does each slice of the pie chart represent?\n",
        "Which expense category has the highest proportion in your budget?\n",
        "Can you identify any expense categories that have similar proportions?\n",
        "What is the purpose of using the explode parameter in the program?"
      ]
    },
    {
      "cell_type": "code",
      "execution_count": null,
      "id": "4608fc21",
      "metadata": {
        "id": "4608fc21"
      },
      "outputs": [],
      "source": [
        "%matplotlib inline"
      ]
    },
    {
      "cell_type": "markdown",
      "id": "01f7dff8",
      "metadata": {
        "id": "01f7dff8"
      },
      "source": [
        "## Step 1: Import Matplotlib"
      ]
    },
    {
      "cell_type": "code",
      "execution_count": 1,
      "id": "9a120328",
      "metadata": {
        "id": "9a120328"
      },
      "outputs": [],
      "source": [
        "# Step 1: Import Matplotlib\n",
        "import matplotlib.pyplot as plt\n"
      ]
    },
    {
      "cell_type": "markdown",
      "id": "ceaa0f46",
      "metadata": {
        "id": "ceaa0f46"
      },
      "source": [
        "## Step 2: Prepare Data"
      ]
    },
    {
      "cell_type": "code",
      "execution_count": 2,
      "id": "ea470429",
      "metadata": {
        "id": "ea470429"
      },
      "outputs": [],
      "source": [
        "# Step 2: Prepare Data\n",
        "# Expense categories and corresponding amounts\n",
        "expense_categories = ['Housing', 'Transportation', 'Food', 'Entertainment', 'Utilities']\n",
        "expense_amounts = [1200, 600, 400, 300, 200]"
      ]
    },
    {
      "cell_type": "markdown",
      "id": "3d86d522",
      "metadata": {
        "id": "3d86d522"
      },
      "source": [
        "## Step 3: Create a Pie Chart"
      ]
    },
    {
      "cell_type": "code",
      "execution_count": null,
      "id": "3001e071",
      "metadata": {
        "id": "3001e071"
      },
      "outputs": [],
      "source": [
        "# Step 3: Create a Pie Chart\n",
        "# Explode a slice if needed (e.g., 'Housing' will be slightly exploded)\n",
        "explode = (0.1, 0, 0, 0, 0)\n",
        "colors = ['#0000FF', '#FF0000', '#00FF00', '#FFFF00', '#00FFFF']\n",
        "\n",
        "# Create a pie chart\n",
        "plt.figure(figsize=(8, 8))\n",
        "plt.pie(expense_amounts, labels=expense_categories, colors=colors, autopct='%1.1f%%', explode=explode, startangle=140)\n",
        "\n"
      ]
    },
    {
      "cell_type": "markdown",
      "id": "610627d0",
      "metadata": {
        "id": "610627d0"
      },
      "source": [
        "## Step 4: Customize the Plot"
      ]
    },
    {
      "cell_type": "code",
      "execution_count": 7,
      "id": "4305b494",
      "metadata": {
        "id": "4305b494",
        "colab": {
          "base_uri": "https://localhost:8080/",
          "height": 487
        },
        "outputId": "ed00e5a6-000a-4b35-a429-d9307c4b427b"
      },
      "outputs": [
        {
          "output_type": "display_data",
          "data": {
            "text/plain": [
              "<Figure size 640x480 with 1 Axes>"
            ],
            "image/png": "[encoded data removed]"
          },
          "metadata": {}
        }
      ],
      "source": [
        "# Step 4: Customize the Plot\n",
        "# Adding a title\n",
        "plt.title('Expense Distribution in Budget')\n",
        "\n",
        "# Display the pie chart\n",
        "plt.axis('equal')  # Equal aspect ratio ensures that pie is drawn as a circle.\n",
        "plt.tight_layout()"
      ]
    },
    {
      "cell_type": "markdown",
      "source": [
        "## Step 5: Display the Plot"
      ],
      "metadata": {
        "id": "MY1pmxd4ZddT"
      },
      "id": "MY1pmxd4ZddT"
    },
    {
      "cell_type": "code",
      "source": [
        "# Step 5: Display the Plot\n",
        "plt.show()"
      ],
      "metadata": {
        "id": "k3k02rXyZi_g"
      },
      "id": "k3k02rXyZi_g",
      "execution_count": null,
      "outputs": []
    },
    {
      "cell_type": "markdown",
      "source": [
        "2. Objective:\n",
        "You want to analyze how you spend your time during a typical day. You have recorded the amount of time (in hours) you spend on various daily activities. You aim to create a pie chart to visualize the distribution of your daily activities.\n",
        "Data for the Program:\n",
        "Here is a sample of the time spent on different activities during a typical day:\n",
        "```\n",
        "activity_labels = ['Sleep', 'Work', 'Exercise', 'Socializing', 'Reading', 'Hobbies', 'Chores']\n",
        "time_hours = [7, 8, 1, 2, 1.5, 2.5, 2]\n",
        "\n",
        "Task:\n",
        "- Use the provided data (activity labels and corresponding time in hours) to - create a pie chart.\n",
        "- Customize the pie chart with appropriate labels, colors, and other visual enhancements.\n",
        "- Generate the pie chart to visualize the distribution of your daily activities."
      ],
      "metadata": {
        "id": "EQ_U--NnZv2D"
      },
      "id": "EQ_U--NnZv2D"
    }
  ],
  "metadata": {
    "colab": {
      "provenance": [],
      "include_colab_link": true
    },
    "language_info": {
      "name": "python"
    },
    "kernelspec": {
      "name": "python3",
      "display_name": "Python 3"
    }
  },
  "nbformat": 4,
  "nbformat_minor": 5
}