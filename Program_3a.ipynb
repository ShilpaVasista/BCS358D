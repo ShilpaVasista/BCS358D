{
  "nbformat": 4,
  "nbformat_minor": 0,
  "metadata": {
    "colab": {
      "provenance": [],
      "authorship_tag": "ABX9TyMZ3YShdJI5ueUewn5it6Fb",
      "include_colab_link": true
    },
    "kernelspec": {
      "name": "python3",
      "display_name": "Python 3"
    },
    "language_info": {
      "name": "python"
    }
  },
  "cells": [
    {
      "cell_type": "markdown",
      "metadata": {
        "id": "view-in-github",
        "colab_type": "text"
      },
      "source": [
        "<a href=\"https://colab.research.google.com/github/ShilpaVasista/BCS358D/blob/main/Program_3a.ipynb\" target=\"_parent\"><img src=\"https://colab.research.google.com/assets/colab-badge.svg\" alt=\"Open In Colab\"/></a>"
      ]
    },
    {
      "cell_type": "markdown",
      "source": [
        "**Problem Statement and Introduction**\n",
        "\n",
        "Write a Python program that accepts a sentence and find the number of words, digits, uppercase letters and lowercase letters.\n",
        "\n",
        "In this program, we will accept a sentence from the user and then find the following information:\n",
        "\n",
        "Number of words in the sentence.\n",
        "Number of digits in the sentence.\n",
        "Number of uppercase letters in the sentence.\n",
        "Number of lowercase letters in the sentence."
      ],
      "metadata": {
        "id": "PEBDdS6dtnG6"
      }
    },
    {
      "cell_type": "markdown",
      "source": [
        "**Step 1: Accept the input string**\n",
        "\n"
      ],
      "metadata": {
        "id": "FHVOQ37auVPZ"
      }
    },
    {
      "cell_type": "code",
      "source": [],
      "metadata": {
        "id": "QokaW0-JufD1"
      },
      "execution_count": null,
      "outputs": []
    },
    {
      "cell_type": "markdown",
      "source": [
        "**Step 2: Initialize Counters**\n",
        "\n",
        "Initialize Counters for Digits, Uppercase, Lowercase and Special Characters\n",
        "(digit_count, uppercase_count, lowercase_count, and SplChar_count)"
      ],
      "metadata": {
        "id": "lucIQmz2urt-"
      }
    },
    {
      "cell_type": "code",
      "source": [],
      "metadata": {
        "id": "F9WaXrpRu0yA"
      },
      "execution_count": null,
      "outputs": []
    },
    {
      "cell_type": "markdown",
      "source": [
        "**Step 3: Analyze the Sentence**\n",
        "\n",
        "Iterate Through Each Character(for i in str):\n",
        "\n",
        "We start a loop to iterate through each character in the sentence.\n",
        "we check each character in the sentence. If a character is alphabetic, we further check if it's uppercase or lowercase and update the counts accordingly. If a character is a digit, we increment the digit_count. Anything else, update the special character count, splChar_count"
      ],
      "metadata": {
        "id": "SIkQiJRuu519"
      }
    },
    {
      "cell_type": "code",
      "source": [
        "\n"
      ],
      "metadata": {
        "id": "ISpOGZCyvJc6"
      },
      "execution_count": null,
      "outputs": []
    },
    {
      "cell_type": "markdown",
      "source": [
        "**Step 4: Split the Sentence into Words**\n",
        "\n",
        "We use the split() method to tokenize the sentence into words and store them in the words list.\n",
        "\n",
        "In Python, the split method is a string method that is used to split a string into a list of substrings based on a specified delimiter.\n",
        "\n",
        "    sentence = \"This is a sample sentence.\"\n",
        "    words = sentence.split()  # Using the default whitespace separator\n",
        "    print(words)"
      ],
      "metadata": {
        "id": "S3cEHcGuvQxN"
      }
    },
    {
      "cell_type": "code",
      "source": [],
      "metadata": {
        "id": "lhPIg7AsvWhe"
      },
      "execution_count": null,
      "outputs": []
    },
    {
      "cell_type": "markdown",
      "source": [
        "Count Words\n",
        "\n",
        "We use the len() function to count the number of words in the words list and update the word_count."
      ],
      "metadata": {
        "id": "EQFIpgzJvco3"
      }
    },
    {
      "cell_type": "code",
      "source": [],
      "metadata": {
        "id": "WJK-YticvgiH"
      },
      "execution_count": null,
      "outputs": []
    },
    {
      "cell_type": "markdown",
      "source": [
        "**Step 5: Print the Results**\n",
        "\n",
        "Print the counts of words, digits, uppercase letters, and lowercase letters."
      ],
      "metadata": {
        "id": "SgXW6j4_vjao"
      }
    },
    {
      "cell_type": "code",
      "source": [],
      "metadata": {
        "id": "OaHUsuagvxUB"
      },
      "execution_count": null,
      "outputs": []
    }
  ]
}