{
  "cells": [
    {
      "cell_type": "markdown",
      "metadata": {
        "id": "view-in-github",
        "colab_type": "text"
      },
      "source": [
        "<a href=\"https://colab.research.google.com/github/ShilpaVasista/BCS358D/blob/main/8a_working_with_bokeh_line_graph.ipynb\" target=\"_parent\"><img src=\"https://colab.research.google.com/assets/colab-badge.svg\" alt=\"Open In Colab\"/></a>"
      ]
    },
    {
      "cell_type": "markdown",
      "source": [
        "##Introduction to Bokeh Plots\n",
        "- Bokeh is a powerful Python library for creating interactive plots and dashboards in a web based environment.\n",
        "- Bokeh Toolbar:\n",
        "  - Pan Tool: Allows to pan (move) the plot in any direction\n",
        "  - Box Zoom Tool: Allows to draw a box to zoom into a specific region of the plot\n",
        "  - Wheel Zoom Tool: Enables zooming using the mouse wheel\n",
        "  - Save Tool: Provides options to save the plot as an image or interactive HTML file\n",
        "  - Reset Tool: Resets the plot to its initial state\n",
        "  - Help Tool: Displays information about the availbale tools\n",
        "  - Bokeh Logo: Links to the Bokeh homepage"
      ],
      "metadata": {
        "id": "X0bE3fZph23A"
      },
      "id": "X0bE3fZph23A"
    },
    {
      "cell_type": "markdown",
      "source": [
        "## Annotations\n",
        "- Annotations in the context of data visualization refer to additional information or explanatory elements added to a plot or chart to provide context, highlight specific data points, or convey important insights.\n",
        "-  Annotations help improve the interpretability and understanding of a visualization.\n",
        "- They can be used to add textual information, lines, shapes, or labels to draw attention to certain features of the data.\n",
        "  \n"
      ],
      "metadata": {
        "id": "7vDr2fqQhvP8"
      },
      "id": "7vDr2fqQhvP8"
    },
    {
      "cell_type": "markdown",
      "source": [
        "# Titles\n",
        "- Titles: Utilize Title annotations to include explanatory text that appears near the borders of a plot.\n",
        "- Use the bokeh.plotting interface and add a basic title by passing the text as the title parameter to figure():\n",
        "\n"
      ],
      "metadata": {
        "id": "HgCtp0_fjc70"
      },
      "id": "HgCtp0_fjc70"
    },
    {
      "cell_type": "code",
      "source": [
        "%matplotlib inline\n",
        "from bokeh.plotting import figure, show, output_file\n",
        "# Create a Bokeh figure with a title\n",
        "p = figure(title=\"My First Bokeh Plot\", x_axis_label='X-axis', y_axis_label='Y-axis')\n",
        "# Add a line glyph to the plot\n",
        "p.line(x=[1,2,3,4,5], y=[2,5,8,3,7], line_width=2, line_color=\"blue\")\n",
        "output_file(\"bokeh_plot.html\")\n",
        "\n",
        "# Show the plot\n",
        "show(p)\n"
      ],
      "metadata": {
        "id": "YGDAkvI4jxUa"
      },
      "id": "YGDAkvI4jxUa",
      "execution_count": null,
      "outputs": []
    },
    {
      "cell_type": "markdown",
      "source": [
        "  - To specify the position of the title relative to the plot, utilize the title_location parameter. The title can be positioned above, below, to the left, or to the right of the plot."
      ],
      "metadata": {
        "id": "vDFBtaonobIc"
      },
      "id": "vDFBtaonobIc"
    },
    {
      "cell_type": "code",
      "source": [
        "from bokeh.plotting import figure, show, output_file\n",
        "\n",
        "# Sample data\n",
        "x_values = [1, 2, 3, 4, 5]\n",
        "y_values = [2, 5, 8, 3, 7]\n",
        "\n",
        "# Create a Bokeh figure with a title positioned above the plot\n",
        "p = figure(title=\"Bokeh Plot with title below the Plot\", x_axis_label='X-axis', y_axis_label='Y-axis', title_location=\"below\")\n",
        "\n",
        "# Add a line glyph to the plot\n",
        "p.line(x=x_values, y=y_values, line_width=2, line_color=\"blue\")\n",
        "\n",
        "# Save the Bokeh plot as an HTML file\n",
        "output_file(\"bokeh_plot_title_location.html\")\n",
        "\n",
        "# Show the plot\n",
        "show(p)\n"
      ],
      "metadata": {
        "id": "1yBqwV-loiPo"
      },
      "id": "1yBqwV-loiPo",
      "execution_count": null,
      "outputs": []
    },
    {
      "cell_type": "markdown",
      "source": [
        "  - toolbar_location is used to specify the position of the toolbar relative to the plot. The toolbar can be positioned above, below, left or to the right of the plot."
      ],
      "metadata": {
        "id": "tTMjbaSRpn1J"
      },
      "id": "tTMjbaSRpn1J"
    },
    {
      "cell_type": "code",
      "source": [
        "from bokeh.plotting import figure, show, output_file\n",
        "\n",
        "# Sample data\n",
        "x_values = [1, 2, 3, 4, 5]\n",
        "y_values = [2, 5, 8, 3, 7]\n",
        "\n",
        "# Create a Bokeh figure with a title positioned above the plot and the toolbar located below\n",
        "p = figure(\n",
        "    title=\"My First Bokeh Plot\",\n",
        "    x_axis_label='X-axis',\n",
        "    y_axis_label='Y-axis',\n",
        "    title_location=\"above\",\n",
        "    toolbar_location=\"below\"\n",
        ")\n",
        "\n",
        "# Add a line glyph to the plot\n",
        "p.line(x=x_values, y=y_values, line_width=2, line_color=\"blue\")\n",
        "\n",
        "# Save the Bokeh plot as an HTML file\n",
        "output_file(\"bokeh_plot_with toolbar_location.html\")\n",
        "\n",
        "# Show the plot\n",
        "show(p)\n"
      ],
      "metadata": {
        "id": "fauuoWN-qPO9"
      },
      "id": "fauuoWN-qPO9",
      "execution_count": null,
      "outputs": []
    },
    {
      "cell_type": "markdown",
      "source": [
        "# Arrows\n",
        "  - Arrow annotations offer a means to link glyphs and label annotations. They can also be employed to emphasize specific areas within a plot.\n",
        "  - ArrowHeads Available in Bokeh are:\n",
        "    - VeeHead\n",
        "    - NormalHead\n",
        "    - TeeHead\n",
        "    - OpenHead\n"
      ],
      "metadata": {
        "id": "vXA1PowSq7t3"
      },
      "id": "vXA1PowSq7t3"
    },
    {
      "cell_type": "code",
      "source": [
        "from bokeh.models import Arrow, NormalHead, OpenHead, VeeHead\n",
        "from bokeh.palettes import Category10_7 as color\n",
        "from bokeh.plotting import figure, show, output_file\n",
        "\n",
        "p = figure(tools=\"\", toolbar_location=None, background_fill_color=\"#efefef\")\n",
        "p.grid.grid_line_color = \"red\"\n",
        "\n",
        "p.circle(x=(0, 1, 0.5), y=(0, 0, 0.7), radius=0.1, color=\"#fafafa\")\n",
        "\n",
        "vh = VeeHead(size=35, fill_color=color[0])\n",
        "p.add_layout(Arrow(end=vh, x_start=0.5, y_start=0.7, x_end=0, y_end=0))\n",
        "\n",
        "nh = NormalHead(fill_color=color[1], fill_alpha=0.5, line_color=color[1])\n",
        "p.add_layout(Arrow(end=nh, line_color=color[1], line_dash=[15, 5],\n",
        "                   x_start=1, y_start=0, x_end=0.5, y_end=0.7))\n",
        "\n",
        "oh = OpenHead(line_color=color[2], line_width=5)\n",
        "p.add_layout(Arrow(end=oh, line_color=color[2], line_width=5,\n",
        "                   x_start=0, y_start=0, x_end=1, y_end=0))\n",
        "\n",
        "output_file(\"bokeh_plot_arrows.html\")\n",
        "\n",
        "show(p)"
      ],
      "metadata": {
        "id": "sjABR0xAwvgV"
      },
      "id": "sjABR0xAwvgV",
      "execution_count": 1,
      "outputs": []
    },
    {
      "cell_type": "markdown",
      "source": [
        "# Labels\n",
        "  - Labels are rectangular boxes with additional information about glyphs or plot regions.\n",
        "\n",
        "  - To create a single text label, use the Label annotation. Those are the most important properties for this annotation:\n",
        "\n",
        "  - A text property containing the text to display inside the label.\n",
        "\n",
        "  - x and y properties to set the position (in screen units or data units).\n",
        "\n",
        "  - x_offset and y_offset properties to specify where to place the label in relation to its x and y coordinates.\n",
        "\n",
        "The standard text properties as well as other styling parameters such as border_line and background_fill properties.\n",
        "\n",
        "  "
      ],
      "metadata": {
        "id": "ZY7SxY4bxI_s"
      },
      "id": "ZY7SxY4bxI_s"
    },
    {
      "cell_type": "code",
      "source": [
        "from bokeh.plotting import figure, show, output_file\n",
        "from bokeh.models import LabelSet, ColumnDataSource\n",
        "\n",
        "# Data\n",
        "data = {\n",
        "    'x_values': [1, 2, 3, 4, 5],\n",
        "    'y_values': [3, 1, 4, 6, 2],\n",
        "    'labels': ['A', 'B', 'C', 'D', 'E']\n",
        "}\n",
        "\n",
        "# Create a ColumnDataSource\n",
        "source = ColumnDataSource(data=data)\n",
        "\n",
        "# Create a figure\n",
        "p = figure(title='Label Demonstration', width=400, height=400)\n",
        "\n",
        "# Add a circle glyph\n",
        "p.circle(x='x_values', y='y_values', size=10, color='navy', alpha=0.5, source=source)\n",
        "\n",
        "# Create labels with x_offset\n",
        "labels = LabelSet(x='x_values', y='y_values', text='labels',\n",
        "                  x_offset=5, y_offset=8, source=source,\n",
        "                  text_font_size='12pt', text_color='red', text_align='center')\n",
        "\n",
        "# Add labels to the plot\n",
        "p.add_layout(labels)\n",
        "\n",
        "# Output configuration and display\n",
        "output_file(\"bokeh_label_demo.html\")\n",
        "show(p)\n"
      ],
      "metadata": {
        "id": "9r1q5Ng6iVx8"
      },
      "id": "9r1q5Ng6iVx8",
      "execution_count": 3,
      "outputs": []
    },
    {
      "cell_type": "markdown",
      "source": [
        "# Legends\n",
        "- To add a legend to plot we have to include legend_label when calling glyph methods."
      ],
      "metadata": {
        "id": "9XT6NMEoxw89"
      },
      "id": "9XT6NMEoxw89"
    },
    {
      "cell_type": "code",
      "source": [
        "import numpy as np\n",
        "\n",
        "from bokeh.plotting import figure, show, output_file\n",
        "\n",
        "x = np.linspace(0, 4*np.pi, 100)\n",
        "y = np.sin(x)\n",
        "\n",
        "p = figure()\n",
        "\n",
        "p.square(x, y, legend_label=\"sin(x)\", size=3, line_color=\"green\")\n",
        "p.line(x, y, line_color=\"green\" ,legend_label=\"sin(x)\")\n",
        "\n",
        "p.line(x, 2*y, legend_label=\"2*sin(x)\",\n",
        "       line_dash=[4, 4], line_color=\"orange\", line_width=2)\n",
        "\n",
        "p.circle(x, 3*y, legend_label=\"3*sin(x)\", size=7, fill_color=None)\n",
        "p.line(x, 3*y, legend_label=\"3*sin(x)\")\n",
        "\n",
        "output_file(\"bokeh_plot_legends.html\")\n",
        "\n",
        "show(p)"
      ],
      "metadata": {
        "id": "QTNq8fCmx-ez"
      },
      "id": "QTNq8fCmx-ez",
      "execution_count": null,
      "outputs": []
    }
  ],
  "metadata": {
    "colab": {
      "provenance": [],
      "include_colab_link": true
    },
    "language_info": {
      "name": "python"
    },
    "kernelspec": {
      "name": "python3",
      "display_name": "Python 3"
    }
  },
  "nbformat": 4,
  "nbformat_minor": 5
}