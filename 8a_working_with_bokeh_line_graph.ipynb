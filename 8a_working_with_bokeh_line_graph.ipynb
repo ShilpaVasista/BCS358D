{
  "cells": [
    {
      "cell_type": "markdown",
      "metadata": {
        "id": "view-in-github",
        "colab_type": "text"
      },
      "source": [
        "<a href=\"https://colab.research.google.com/github/ShilpaVasista/BCS358D/blob/main/8a_working_with_bokeh_line_graph.ipynb\" target=\"_parent\"><img src=\"https://colab.research.google.com/assets/colab-badge.svg\" alt=\"Open In Colab\"/></a>"
      ]
    },
    {
      "cell_type": "markdown",
      "source": [
        "##Introduction to Bokeh Plots\n",
        "- Bokeh is a powerful Python library for creating interactive plots and dashboards in a web based environment.\n",
        "- Bokeh Toolbar:\n",
        "  - Pan Tool: Allows to pan (move) the plot in any direction\n",
        "  - Box Zoom Tool: Allows to draw a box to zoom into a specific region of the plot\n",
        "  - Wheel Zoom Tool: Enables zooming using the mouse wheel\n",
        "  - Save Tool: Provides options to save the plot as an image or interactive HTML file\n",
        "  - Reset Tool: Resets the plot to its initial state\n",
        "  - Help Tool: Displays information about the availbale tools\n",
        "  - Bokeh Logo: Links to the Bokeh homepage"
      ],
      "metadata": {
        "id": "X0bE3fZph23A"
      },
      "id": "X0bE3fZph23A"
    },
    {
      "cell_type": "markdown",
      "source": [
        "## Annotations\n",
        "- Annotations in the context of data visualization refer to additional information or explanatory elements added to a plot or chart to provide context, highlight specific data points, or convey important insights.\n",
        "-  Annotations help improve the interpretability and understanding of a visualization.\n",
        "- They can be used to add textual information, lines, shapes, or labels to draw attention to certain features of the data.\n",
        "  \n"
      ],
      "metadata": {
        "id": "7vDr2fqQhvP8"
      },
      "id": "7vDr2fqQhvP8"
    },
    {
      "cell_type": "markdown",
      "source": [
        "# Titles\n",
        "- Titles: Utilize Title annotations to include explanatory text that appears near the borders of a plot.\n",
        "- Use the bokeh.plotting interface and add a basic title by passing the text as the title parameter to figure():\n",
        "\n"
      ],
      "metadata": {
        "id": "HgCtp0_fjc70"
      },
      "id": "HgCtp0_fjc70"
    },
    {
      "cell_type": "code",
      "source": [
        "%matplotlib inline\n",
        "from bokeh.plotting import figure, show, output_file\n",
        "# Create a Bokeh figure with a title\n",
        "p = figure(title=\"My First Bokeh Plot\", x_axis_label='X-axis', y_axis_label='Y-axis')\n",
        "# Add a line glyph to the plot\n",
        "p.line(x=[1,2,3,4,5], y=[2,5,8,3,7], line_width=2, line_color=\"blue\")\n",
        "output_file(\"bokeh_plot.html\")\n",
        "\n",
        "# Show the plot\n",
        "show(p)\n"
      ],
      "metadata": {
        "id": "YGDAkvI4jxUa"
      },
      "id": "YGDAkvI4jxUa",
      "execution_count": null,
      "outputs": []
    },
    {
      "cell_type": "markdown",
      "source": [
        "  - To specify the position of the title relative to the plot, utilize the title_location parameter. The title can be positioned above, below, to the left, or to the right of the plot."
      ],
      "metadata": {
        "id": "vDFBtaonobIc"
      },
      "id": "vDFBtaonobIc"
    },
    {
      "cell_type": "code",
      "source": [
        "from bokeh.plotting import figure, show, output_file\n",
        "\n",
        "# Sample data\n",
        "x_values = [1, 2, 3, 4, 5]\n",
        "y_values = [2, 5, 8, 3, 7]\n",
        "\n",
        "# Create a Bokeh figure with a title positioned above the plot\n",
        "p = figure(title=\"Bokeh Plot with title below the Plot\", x_axis_label='X-axis', y_axis_label='Y-axis', title_location=\"below\")\n",
        "\n",
        "# Add a line glyph to the plot\n",
        "p.line(x=x_values, y=y_values, line_width=2, line_color=\"blue\")\n",
        "\n",
        "# Save the Bokeh plot as an HTML file\n",
        "output_file(\"bokeh_plot_title_location.html\")\n",
        "\n",
        "# Show the plot\n",
        "show(p)\n"
      ],
      "metadata": {
        "id": "1yBqwV-loiPo"
      },
      "id": "1yBqwV-loiPo",
      "execution_count": 7,
      "outputs": []
    },
    {
      "cell_type": "markdown",
      "source": [
        "  - toolbar_location is used to specify the position of the toolbar relative to the plot. The toolbar can be positioned above, below, left or to the right of the plot."
      ],
      "metadata": {
        "id": "tTMjbaSRpn1J"
      },
      "id": "tTMjbaSRpn1J"
    },
    {
      "cell_type": "code",
      "source": [
        "from bokeh.plotting import figure, show, output_file\n",
        "\n",
        "# Sample data\n",
        "x_values = [1, 2, 3, 4, 5]\n",
        "y_values = [2, 5, 8, 3, 7]\n",
        "\n",
        "# Create a Bokeh figure with a title positioned above the plot and the toolbar located below\n",
        "p = figure(\n",
        "    title=\"My First Bokeh Plot\",\n",
        "    x_axis_label='X-axis',\n",
        "    y_axis_label='Y-axis',\n",
        "    title_location=\"above\",\n",
        "    toolbar_location=\"below\"\n",
        ")\n",
        "\n",
        "# Add a line glyph to the plot\n",
        "p.line(x=x_values, y=y_values, line_width=2, line_color=\"blue\")\n",
        "\n",
        "# Save the Bokeh plot as an HTML file\n",
        "output_file(\"bokeh_plot_with toolbar_location.html\")\n",
        "\n",
        "# Show the plot\n",
        "show(p)\n"
      ],
      "metadata": {
        "id": "fauuoWN-qPO9"
      },
      "id": "fauuoWN-qPO9",
      "execution_count": 8,
      "outputs": []
    },
    {
      "cell_type": "markdown",
      "source": [
        "# Arrows\n",
        "  - Arrow annotations offer a means to link glyphs and label annotations. They can also be employed to emphasize specific areas within a plot.\n",
        "  - ArrowHeads Available in Bokeh are:\n",
        "    - VeeHead\n",
        "    - NormalHead\n",
        "    - TeeHead\n",
        "    - OpenHead\n"
      ],
      "metadata": {
        "id": "vXA1PowSq7t3"
      },
      "id": "vXA1PowSq7t3"
    },
    {
      "cell_type": "code",
      "source": [
        "from bokeh.models import Arrow, NormalHead, OpenHead, VeeHead\n",
        "from bokeh.palettes import Muted3 as color\n",
        "from bokeh.plotting import figure, show, output_file\n",
        "\n",
        "p = figure(tools=\"\", toolbar_location=None, background_fill_color=\"#efefef\")\n",
        "p.grid.grid_line_color = None\n",
        "\n",
        "p.circle(x=(0, 1, 0.5), y=(0, 0, 0.7), radius=0.1, color=\"#fafafa\")\n",
        "\n",
        "vh = VeeHead(size=35, fill_color=color[0])\n",
        "p.add_layout(Arrow(end=vh, x_start=0.5, y_start=0.7, x_end=0, y_end=0))\n",
        "\n",
        "nh = NormalHead(fill_color=color[1], fill_alpha=0.5, line_color=color[1])\n",
        "p.add_layout(Arrow(end=nh, line_color=color[1], line_dash=[15, 5],\n",
        "                   x_start=1, y_start=0, x_end=0.5, y_end=0.7))\n",
        "\n",
        "oh = OpenHead(line_color=color[2], line_width=5)\n",
        "p.add_layout(Arrow(end=oh, line_color=color[2], line_width=5,\n",
        "                   x_start=0, y_start=0, x_end=1, y_end=0))\n",
        "\n",
        "output_file(\"bokeh_plot_arrows.html\")\n",
        "\n",
        "show(p)"
      ],
      "metadata": {
        "id": "sjABR0xAwvgV"
      },
      "id": "sjABR0xAwvgV",
      "execution_count": 10,
      "outputs": []
    },
    {
      "cell_type": "markdown",
      "source": [
        "# Labels\n",
        "  - Labels are rectangular boxes with additional information about glyphs or plot regions.\n",
        "\n",
        "  - To create a single text label, use the Label annotation. Those are the most important properties for this annotation:\n",
        "\n",
        "  - A text property containing the text to display inside the label.\n",
        "\n",
        "  - x and y properties to set the position (in screen units or data units).\n",
        "\n",
        "  - x_offset and y_offset properties to specify where to place the label in relation to its x and y coordinates.\n",
        "\n",
        "The standard text properties as well as other styling parameters such as border_line and background_fill properties.\n",
        "\n",
        "  "
      ],
      "metadata": {
        "id": "ZY7SxY4bxI_s"
      },
      "id": "ZY7SxY4bxI_s"
    },
    {
      "cell_type": "code",
      "source": [
        "from bokeh.models import ColumnDataSource, Label, LabelSet\n",
        "from bokeh.plotting import figure, show, output_file\n",
        "\n",
        "source = ColumnDataSource(data=dict(\n",
        "    height=[66, 71, 72, 68, 58, 62],\n",
        "    weight=[165, 189, 220, 141, 260, 174],\n",
        "    names=['Mark', 'Amir', 'Matt', 'Greg', 'Owen', 'Juan']\n",
        "))\n",
        "\n",
        "p = figure(title='Dist. of 10th Grade Students', x_range=(140, 275))\n",
        "p.xaxis.axis_label = 'Weight (lbs)'\n",
        "p.yaxis.axis_label = 'Height (in)'\n",
        "\n",
        "p.scatter(x='weight', y='height', size=8, source=source)\n",
        "\n",
        "labels = LabelSet(x='weight', y='height', text='names',\n",
        "                  x_offset=5, y_offset=5, source=source)\n",
        "\n",
        "citation = Label(x=70, y=70, x_units='screen', y_units='screen',\n",
        "                 text='Collected by Luke C. 2016-04-01',\n",
        "                 border_line_color='black', background_fill_color='white')\n",
        "\n",
        "p.add_layout(labels)\n",
        "p.add_layout(citation)\n",
        "\n",
        "output_file(\"bokeh_plot_labels.html\")\n",
        "\n",
        "show(p)"
      ],
      "metadata": {
        "id": "8FmU_4mAxdrk"
      },
      "id": "8FmU_4mAxdrk",
      "execution_count": 11,
      "outputs": []
    },
    {
      "cell_type": "markdown",
      "source": [
        "# Legends\n",
        "- To add a legend to plot we have to include legend_label when calling glyph methods."
      ],
      "metadata": {
        "id": "9XT6NMEoxw89"
      },
      "id": "9XT6NMEoxw89"
    },
    {
      "cell_type": "code",
      "source": [
        "import numpy as np\n",
        "\n",
        "from bokeh.plotting import figure, show, output_file\n",
        "\n",
        "x = np.linspace(0, 4*np.pi, 100)\n",
        "y = np.sin(x)\n",
        "\n",
        "p = figure()\n",
        "\n",
        "p.square(x, y, legend_label=\"sin(x)\", size=3, line_color=\"green\")\n",
        "p.line(x, y, legend_label=\"sin(x)\", line_color=\"green\")\n",
        "\n",
        "p.line(x, 2*y, legend_label=\"2*sin(x)\",\n",
        "       line_dash=[4, 4], line_color=\"orange\", line_width=2)\n",
        "\n",
        "p.circle(x, 3*y, legend_label=\"3*sin(x)\", size=7, fill_color=None)\n",
        "p.line(x, 3*y, legend_label=\"3*sin(x)\")\n",
        "\n",
        "output_file(\"bokeh_plot_legends.html\")\n",
        "\n",
        "show(p)"
      ],
      "metadata": {
        "id": "QTNq8fCmx-ez"
      },
      "id": "QTNq8fCmx-ez",
      "execution_count": null,
      "outputs": []
    },
    {
      "cell_type": "markdown",
      "id": "d30665d7",
      "metadata": {
        "id": "d30665d7"
      },
      "source": [
        "# Working with Bokeh Line Graph"
      ]
    },
    {
      "cell_type": "markdown",
      "id": "03b93212",
      "metadata": {
        "id": "03b93212"
      },
      "source": [
        "Write a Python program to explain working with Bokeh line graphs using annotations and legends."
      ]
    },
    {
      "cell_type": "markdown",
      "id": "08c12f3c",
      "metadata": {
        "id": "08c12f3c"
      },
      "source": [
        "## Problem Statement and Introduction\n",
        "Objective: To create a Bokeh line graph to visualize the historical stock prices of two companies (Company A and Company B) and annotate important events on the graph. Additionally, include legends to identify each company's stock price.\n",
        "\n",
        "Data:\n",
        "Historical stock prices for Company A and Company B for a period of time.\n",
        "\n",
        "Instructions:\n",
        "- Load the historical stock price data for both Company A and Company B.\n",
        "- Create a Bokeh line graph to plot the stock prices of both companies over time.\n",
        "- Customize the line styles, colors, and markers for each company to distinguish them effectively.\n",
        "- Use annotations to highlight significant events in the stock market, such as mergers, earnings reports, or major news events. Place text annotations and vertical lines to mark these events on the graph.\n",
        "- Include legends in the plot to identify each company. The legend should clearly label Company A and Company B with their respective line styles/colors.\n",
        "- Provide appropriate titles, labels for the x-axis and y-axis, and a title for the entire graph to make it informative and presentable.\n"
      ]
    },
    {
      "cell_type": "code",
      "execution_count": null,
      "id": "98445f3d",
      "metadata": {
        "id": "98445f3d"
      },
      "outputs": [],
      "source": [
        "# Code to generate Historical Stock Data and store it in csv file\n",
        "import random\n",
        "import pandas as pd\n",
        "from datetime import datetime, timedelta\n",
        "\n",
        "# Generate date range (e.g., last 6 months)\n",
        "end_date = datetime.now()\n",
        "start_date = end_date - timedelta(days=180)  # 180 days or approximately 6 months\n",
        "\n",
        "date_range = pd.date_range(start_date, end_date, freq='D')  # Daily frequency\n",
        "\n",
        "# Generate synthetic stock prices for Company A and Company B\n",
        "company_a_prices = [random.uniform(50, 150) for _ in date_range]\n",
        "company_b_prices = [random.uniform(30, 120) for _ in date_range]\n",
        "\n",
        "# Create a DataFrame for the data\n",
        "stock_data = pd.DataFrame({\n",
        "    'Date': date_range,\n",
        "    'Company A Stock Price': company_a_prices,\n",
        "    'Company B Stock Price': company_b_prices\n",
        "})\n",
        "\n",
        "# Save the data to a CSV file for later use\n",
        "stock_data.to_csv('stock_prices.csv', index=False)\n",
        "\n"
      ]
    },
    {
      "cell_type": "markdown",
      "id": "a0d5934b",
      "metadata": {
        "id": "a0d5934b"
      },
      "source": [
        "## Step 1: Import Bokeh"
      ]
    },
    {
      "cell_type": "code",
      "execution_count": null,
      "id": "d9660300",
      "metadata": {
        "id": "d9660300"
      },
      "outputs": [],
      "source": [
        "# Step 1: Import Bokeh\n",
        "# from bokeh.plotting import figure, show, output_file\n",
        "from bokeh.models import Legend\n",
        "import pandas as pd"
      ]
    },
    {
      "cell_type": "markdown",
      "id": "b0efb91c",
      "metadata": {
        "id": "b0efb91c"
      },
      "source": [
        "## Step 2: Prepare Data"
      ]
    },
    {
      "cell_type": "code",
      "execution_count": null,
      "id": "48b0f77a",
      "metadata": {
        "id": "48b0f77a"
      },
      "outputs": [],
      "source": [
        "# Step 2: Prepare Data\n",
        "# Load the data from the CSV file\n",
        "stock_data = pd.read_csv('stock_prices.csv', parse_dates=['Date'])"
      ]
    },
    {
      "cell_type": "markdown",
      "id": "7ef4cb44",
      "metadata": {
        "id": "7ef4cb44"
      },
      "source": [
        "## Step 3: Create a Bokeh Figure"
      ]
    },
    {
      "cell_type": "code",
      "execution_count": null,
      "id": "67dd6f3e",
      "metadata": {
        "id": "67dd6f3e"
      },
      "outputs": [],
      "source": [
        "# Step 3: Create a Bokeh figure\n",
        "p = figure(title=\"Stock Prices Over Time\", x_axis_label=\"Date\", y_axis_label=\"Stock Price\")"
      ]
    },
    {
      "cell_type": "markdown",
      "source": [
        "## Step 4:\n",
        "- Plot the lines for Company A and Company B\n",
        "- Add Annotations and Legend to the PLot"
      ],
      "metadata": {
        "id": "xKRs7lfjlKnl"
      },
      "id": "xKRs7lfjlKnl"
    },
    {
      "cell_type": "code",
      "source": [
        "# Plot the lines for Company A and Company B\n",
        "a_line = p.line(stock_data['Date'], stock_data['Company A Stock Price'], line_width=2, legend_label=\"Company A\")\n",
        "b_line = p.line(stock_data['Date'], stock_data['Company B Stock Price'], line_width=2, line_color='red', legend_label=\"Company B\")\n",
        "\n",
        "# Add annotations (e.g., text annotation)\n",
        "annotation_x = stock_data['Date'].iloc[50]  # Choose a specific date for the annotation\n",
        "annotation_y = stock_data['Company A Stock Price'].iloc[50]  # Choose the corresponding stock price\n",
        "p.add_layout(Title(text=\"Annotation Example\", align=\"center\"), \"above\")\n",
        "p.add_layout(Label(x=annotation_x, y=annotation_y, text=\"Important Event\", text_font_size=\"10pt\"))\n",
        "\n",
        "# Add a legend to the plot\n",
        "legend = Legend(items=[(\"Company A\", [a_line]), (\"Company B\", [b_line])])\n",
        "p.add_layout(legend, 'below')\n",
        "\n"
      ],
      "metadata": {
        "id": "kd3PYymllLMK"
      },
      "id": "kd3PYymllLMK",
      "execution_count": null,
      "outputs": []
    },
    {
      "cell_type": "markdown",
      "source": [
        "## Step 5: Specfy the output file"
      ],
      "metadata": {
        "id": "etqJYHOwlvoE"
      },
      "id": "etqJYHOwlvoE"
    },
    {
      "cell_type": "code",
      "source": [
        "# Specify the output file (HTML)\n",
        "output_file(\"bokeh_line_graph.html\")\n",
        "\n"
      ],
      "metadata": {
        "id": "dULcSefwl3H_"
      },
      "id": "dULcSefwl3H_",
      "execution_count": null,
      "outputs": []
    },
    {
      "cell_type": "markdown",
      "source": [
        "## Step 6: Show the plot in a web browser"
      ],
      "metadata": {
        "id": "vNmpHXbvl4EW"
      },
      "id": "vNmpHXbvl4EW"
    },
    {
      "cell_type": "code",
      "source": [
        "# Show the plot in a web browser\n",
        "show(p)"
      ],
      "metadata": {
        "id": "gJ2vjZfYl8-R"
      },
      "id": "gJ2vjZfYl8-R",
      "execution_count": null,
      "outputs": []
    }
  ],
  "metadata": {
    "colab": {
      "provenance": [],
      "include_colab_link": true
    },
    "language_info": {
      "name": "python"
    },
    "kernelspec": {
      "name": "python3",
      "display_name": "Python 3"
    }
  },
  "nbformat": 4,
  "nbformat_minor": 5
}