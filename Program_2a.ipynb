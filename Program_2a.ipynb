{
  "nbformat": 4,
  "nbformat_minor": 0,
  "metadata": {
    "colab": {
      "provenance": [],
      "authorship_tag": "ABX9TyNVxk6+0g3amAaX/jeBlxXh",
      "include_colab_link": true
    },
    "kernelspec": {
      "name": "python3",
      "display_name": "Python 3"
    },
    "language_info": {
      "name": "python"
    }
  },
  "cells": [
    {
      "cell_type": "markdown",
      "metadata": {
        "id": "view-in-github",
        "colab_type": "text"
      },
      "source": [
        "<a href=\"https://colab.research.google.com/github/ShilpaVasista/BCS358D/blob/main/Program_2a.ipynb\" target=\"_parent\"><img src=\"https://colab.research.google.com/assets/colab-badge.svg\" alt=\"Open In Colab\"/></a>"
      ]
    },
    {
      "cell_type": "markdown",
      "source": [
        "### Problem Statement and Introduction\n",
        "\n",
        "#### Problem Statement\n",
        "\n",
        "In this program, we will calculate the Fibonacci number for a given positive integer N using a recursive function. The Fibonacci sequence is defined as follows:\n",
        "\n",
        "\n",
        "With initial conditions:\n",
        "\n",
        "F(0) = 0\n",
        "\n",
        "F(1) = 1\n",
        "\n",
        "\n",
        "#### Introduction\n",
        "\n",
        "Let's create a Python program that allows the user to enter a positive integer N. We will then calculate and display the Nth Fibonacci number using a recursive function. The Fibonacci sequence is a series of numbers where each number is the sum of the two preceding ones, typically starting with 0 and 1. This program will demonstrate the concept of recursion in Python and how it can be used to calculate Fibonacci numbers.\n",
        "\n",
        "Example:\n",
        "\n",
        "Suppose the user enters N = 5. The program will calculate and display: 5\n",
        "\n",
        "\n",
        "This means that the 5th Fibonacci number in the sequence is 5, which is calculated as the sum of the 4th and 3rd Fibonacci numbers: F(5) = F(4) + F(3).\n",
        "\n",
        "\n",
        "### Fibonacci Numbers\n",
        "\n",
        "Fibonacci numbers, often denoted as \"F(n),\" are a sequence of numbers in which each number is the sum of the two preceding ones. The sequence starts with 0 and 1, and then each subsequent number is the sum of the two numbers immediately preceding it. In mathematical terms, the Fibonacci sequence can be defined as follows:\n",
        "\n",
        "- F(0) = 0\n",
        "- F(1) = 1\n",
        "- F(n) = F(n-1) + F(n-2) for n > 1\n",
        "\n",
        "Here's the beginning of the Fibonacci sequence:\n",
        "\n",
        "\n",
        "Here's a brief explanation of the first few Fibonacci numbers:\n",
        "\n",
        "- F(0) = 0: The sequence starts with 0.\n",
        "# - F(1) = 1: The second number is 1.\n",
        "- F(2) = F(1) + F(0) = 1 + 0 = 1: The third number is the sum of the first two (1 + 0).\n",
        "- F(3) = F(2) + F(1) = 1 + 1 = 2: The fourth number is the sum of the second and third (1 + 1).\n",
        "- F(4) = F(3) + F(2) = 2 + 1 = 3: The fifth number is the sum of the third and fourth (2 + 1).\n",
        "- And so on...\n",
        "\n",
        "The Fibonacci sequence has several interesting properties and appears in various natural phenomena, including plant growth patterns, art, and even financial markets. Fibonacci numbers are widely studied in mathematics and have applications in computer science, data analysis, and other fields.\n"
      ],
      "metadata": {
        "id": "MF7xekZrk38L"
      }
    },
    {
      "cell_type": "markdown",
      "source": [
        "**Pre-Requistes:**\n",
        "\n",
        "[Functions in Python](https://colab.research.google.com/drive/1wzx1kN8EWfN5Cq062I19QVeFzmok5qGc)\n",
        "\n",
        "[`try` and `except` blocks](https://colab.research.google.com/drive/1_sRMmgFXaQaHbVqCuoTcJvLYCcRTBqp5#scrollTo=chaMTQ49JRmn)"
      ],
      "metadata": {
        "id": "E0-q5CiHiW0M"
      }
    },
    {
      "cell_type": "markdown",
      "source": [
        "**Step 1: Define the Fibonacci Function**\n",
        "\n",
        "Define the Fibonacci function, which calculates the Fibonacci number for a given input n. Explain the base cases (F(0) and F(1)) and the recursive case (Fn = Fn-1 + Fn-2).\n"
      ],
      "metadata": {
        "id": "sTsnxiPgEpZj"
      }
    },
    {
      "cell_type": "code",
      "execution_count": null,
      "metadata": {
        "id": "xbpG8NS0k2cn"
      },
      "outputs": [],
      "source": []
    },
    {
      "cell_type": "markdown",
      "source": [
        "**Step 2: Input**\n",
        "\n",
        "Instruct the user to input a positive integer N:\n",
        "\n",
        "\"Please enter a positive integer (N > 0): \"\n",
        "\n"
      ],
      "metadata": {
        "id": "CsgxU8LmFBQo"
      }
    },
    {
      "cell_type": "code",
      "source": [],
      "metadata": {
        "id": "NROxUfZoFX5E"
      },
      "execution_count": null,
      "outputs": []
    },
    {
      "cell_type": "markdown",
      "source": [
        "**Step 3: Error Handling**\n",
        "\n",
        "Use a try block to handle potential errors, specifically ValueError if the user enters invalid input.\n",
        "\n",
        "Check if the input value n is less than 0 (i.e., not a positive integer). If it is, display an error message."
      ],
      "metadata": {
        "id": "4CIRwczYFYrG"
      }
    },
    {
      "cell_type": "code",
      "source": [],
      "metadata": {
        "id": "I3z-UCi3Fsx2"
      },
      "execution_count": null,
      "outputs": []
    },
    {
      "cell_type": "markdown",
      "source": [
        "**Step 4: Calculate and Display Fibonacci Number**\n",
        "\n",
        "If there are no errors, calculate the Fibonacci number for n using the fibonacci function defined earlier.\n",
        "\n",
        "Display the result to the user.\n",
        "\n"
      ],
      "metadata": {
        "id": "66NSjONZFt2s"
      }
    },
    {
      "cell_type": "code",
      "source": [],
      "metadata": {
        "id": "mk6gyOprF5_a"
      },
      "execution_count": null,
      "outputs": []
    },
    {
      "cell_type": "markdown",
      "source": [
        "**Step 5: Handle Invalid Input**\n",
        "\n",
        "Use an except block to handle ValueError exceptions (invalid input) and display an error message.\n"
      ],
      "metadata": {
        "id": "BuXyDrx_F6uU"
      }
    },
    {
      "cell_type": "code",
      "source": [],
      "metadata": {
        "id": "17m-EzMCF92_"
      },
      "execution_count": null,
      "outputs": []
    }
  ]
}