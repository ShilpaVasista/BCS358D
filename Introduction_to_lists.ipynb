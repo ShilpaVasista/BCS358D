{
  "nbformat": 4,
  "nbformat_minor": 0,
  "metadata": {
    "colab": {
      "provenance": [],
      "authorship_tag": "ABX9TyOumHqyLYnRoO5uEsTFjUTc",
      "include_colab_link": true
    },
    "kernelspec": {
      "name": "python3",
      "display_name": "Python 3"
    },
    "language_info": {
      "name": "python"
    }
  },
  "cells": [
    {
      "cell_type": "markdown",
      "metadata": {
        "id": "view-in-github",
        "colab_type": "text"
      },
      "source": [
        "<a href=\"https://colab.research.google.com/github/ShilpaVasista/Data_Visualization_with_Python/blob/main/Introduction_to_lists.ipynb\" target=\"_parent\"><img src=\"https://colab.research.google.com/assets/colab-badge.svg\" alt=\"Open In Colab\"/></a>"
      ]
    },
    {
      "cell_type": "markdown",
      "source": [
        "# Lists in Python\n",
        "\n",
        "## Introduction\n",
        "\n",
        "In Python, a list is a versatile and commonly used data structure that allows you to store and manipulate collections of items. Lists are mutable, ordered, and can contain elements of different data types. In this chapter, we'll explore the basics of working with lists, including creating lists, accessing elements, and performing common operations.\n",
        "\n",
        "## Creating Lists\n",
        "\n",
        "To create a list in Python, use square brackets `[]` and separate elements with commas. Here's an example:\n",
        "\n",
        "```python\n",
        "my_list = [1, 2, 3, 4, 5]\n"
      ],
      "metadata": {
        "id": "nmjXCItdul1R"
      }
    },
    {
      "cell_type": "code",
      "execution_count": 1,
      "metadata": {
        "id": "hbx7dZzlueYe"
      },
      "outputs": [],
      "source": [
        "my_list = [1, 2, 3, 4, 5]"
      ]
    },
    {
      "cell_type": "markdown",
      "source": [
        "## Accessing Elements\n",
        "Elements in a list are accessed using their index. Python uses zero-based indexing, meaning the first element is at index 0. Here's how you access elements:"
      ],
      "metadata": {
        "id": "TZt_CRaiuzAh"
      }
    },
    {
      "cell_type": "code",
      "source": [
        "print(my_list[2])  # Output: 3"
      ],
      "metadata": {
        "id": "tNYrfdLYu7bG"
      },
      "execution_count": null,
      "outputs": []
    },
    {
      "cell_type": "markdown",
      "source": [
        "# List Operations\n",
        "## 1. Modifying Elements\n",
        "Lists are mutable, which means you can change their elements. For example:"
      ],
      "metadata": {
        "id": "NVSU6F5SvAgb"
      }
    },
    {
      "cell_type": "code",
      "source": [
        "my_list[1] = 10\n",
        "print(my_list)  # Output: [1, 10, 3, 4, 5]"
      ],
      "metadata": {
        "id": "Eo83BeCjvIPj"
      },
      "execution_count": null,
      "outputs": []
    },
    {
      "cell_type": "markdown",
      "source": [
        "## 2. Adding Elements\n",
        "You can add elements to the end of a list using the append() method:"
      ],
      "metadata": {
        "id": "jQUQDXb7vMTB"
      }
    },
    {
      "cell_type": "code",
      "source": [
        "my_list.append(6)\n",
        "print(my_list)  # Output: [1, 10, 3, 4, 5, 6]"
      ],
      "metadata": {
        "id": "nkbTGp05vOik"
      },
      "execution_count": null,
      "outputs": []
    },
    {
      "cell_type": "markdown",
      "source": [
        "## 3. List Concatenation\n",
        "Lists can be concatenated using the + operator:"
      ],
      "metadata": {
        "id": "8Ssp8ww1vS--"
      }
    },
    {
      "cell_type": "code",
      "source": [
        "new_list = my_list + [7, 8, 9]\n",
        "print(new_list)  # Output: [1, 10, 3, 4, 5, 6, 7, 8, 9]"
      ],
      "metadata": {
        "id": "9SqH5yiuvZYw"
      },
      "execution_count": null,
      "outputs": []
    },
    {
      "cell_type": "markdown",
      "source": [
        "## 4. List Slicing\n",
        "List slicing allows you to create a new list by extracting a portion of an existing list. Here are some examples:"
      ],
      "metadata": {
        "id": "iSSMji8IvcV0"
      }
    },
    {
      "cell_type": "code",
      "source": [
        "subset = my_list[1:4]\n",
        "print(subset)  # Output: [10, 3, 4]\n",
        "\n",
        "every_second = my_list[::2]\n",
        "print(every_second)  # Output: [1, 3, 5]\n"
      ],
      "metadata": {
        "id": "lxvNSIEQvfZn"
      },
      "execution_count": null,
      "outputs": []
    }
  ]
}