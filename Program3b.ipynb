{
  "nbformat": 4,
  "nbformat_minor": 0,
  "metadata": {
    "colab": {
      "provenance": [],
      "authorship_tag": "ABX9TyM9YWKg7H/Aykt2Zk003uA4",
      "include_colab_link": true
    },
    "kernelspec": {
      "name": "python3",
      "display_name": "Python 3"
    },
    "language_info": {
      "name": "python"
    }
  },
  "cells": [
    {
      "cell_type": "markdown",
      "metadata": {
        "id": "view-in-github",
        "colab_type": "text"
      },
      "source": [
        "<a href=\"https://colab.research.google.com/github/ShilpaVasista/BCS358D/blob/main/Program3b.ipynb\" target=\"_parent\"><img src=\"https://colab.research.google.com/assets/colab-badge.svg\" alt=\"Open In Colab\"/></a>"
      ]
    },
    {
      "cell_type": "markdown",
      "source": [
        "**Problem Statement and Introduction**\n",
        "\n",
        "Write a Python program to find the string similarity between two given strings\n",
        "\n",
        "                             Sample Output: Sample Output:\n",
        "                             Original string: Original string:\n",
        "                             Python Exercises Python Exercises\n",
        "                             Python Exercises Python Exercise\n",
        "Similarity between two said strings: Similarity between two said strings:1.0\n"
      ],
      "metadata": {
        "id": "fJKoKNm7yp5w"
      }
    },
    {
      "cell_type": "markdown",
      "source": [
        "Problem Statement:\n",
        "\n",
        "In this program, we will calculate the similarity between two given strings using the difflib library.\n",
        "\n"
      ],
      "metadata": {
        "id": "TKpGJE4B4uD7"
      }
    },
    {
      "cell_type": "markdown",
      "source": [
        "Introduction:\n",
        "\n",
        "Let's create a Python program that takes two strings as input and calculates the similarity between them. We will use the difflib library, which provides tools for comparing sequences."
      ],
      "metadata": {
        "id": "3ilwhX0W6ilX"
      }
    },
    {
      "cell_type": "markdown",
      "source": [
        "**Step 1: Import the difflib Library**\n",
        "\n",
        "We start by importing the difflib library, which is necessary for comparing the strings."
      ],
      "metadata": {
        "id": "q0hDnrDk6pvc"
      }
    },
    {
      "cell_type": "code",
      "execution_count": null,
      "metadata": {
        "id": "2b01zbWmyQB_"
      },
      "outputs": [],
      "source": []
    },
    {
      "cell_type": "markdown",
      "source": [
        "**Step 2: Define a Function to Calculate Similarity.**\n",
        "\n",
        "Define the calculate_similarity Function - We define a function calculate_similarity that takes two string arguments, str1 and str2"
      ],
      "metadata": {
        "id": "82jnKa3262OK"
      }
    },
    {
      "cell_type": "code",
      "source": [],
      "metadata": {
        "id": "5hRe5rJ07Dsr"
      },
      "execution_count": null,
      "outputs": []
    },
    {
      "cell_type": "markdown",
      "source": [
        "**Step 3: Create a SequenceMatcher Object**\n",
        "\n",
        "Create a SequenceMatcher Object - we create a SequenceMatcher object named seq_matcher. We pass None as the argument for the second parameter to allow the SequenceMatcher to auto-select appropriate algorithms for comparison."
      ],
      "metadata": {
        "id": "qfYTQZZw7NED"
      }
    },
    {
      "cell_type": "code",
      "source": [],
      "metadata": {
        "id": "I-DHHxzm7dyr"
      },
      "execution_count": null,
      "outputs": []
    },
    {
      "cell_type": "markdown",
      "source": [
        "**Step 4: Calculate the Similarity Ratio**\n",
        "\n",
        "Calculate the Similarity Ratio - We use the ratio() method of the seq_matcher object to calculate the similarity ratio between the two input strings. We then return this ratio."
      ],
      "metadata": {
        "id": "ILidAt2u7YDQ"
      }
    },
    {
      "cell_type": "code",
      "source": [],
      "metadata": {
        "id": "UBvKQOHA7wI_"
      },
      "execution_count": null,
      "outputs": []
    },
    {
      "cell_type": "markdown",
      "source": [
        "**Step 5: Input the Two Strings**\n",
        "\n",
        "We use the input() function to get the first string from the user."
      ],
      "metadata": {
        "id": "azbeYOOW7woj"
      }
    },
    {
      "cell_type": "code",
      "source": [],
      "metadata": {
        "id": "yBitVMPU744L"
      },
      "execution_count": null,
      "outputs": []
    },
    {
      "cell_type": "markdown",
      "source": [
        "Input the Second String\n",
        "\n",
        "We use the input() function again to get the second string from the user."
      ],
      "metadata": {
        "id": "oJW1cQst75k8"
      }
    },
    {
      "cell_type": "code",
      "source": [],
      "metadata": {
        "id": "6js_z87r7-Uw"
      },
      "execution_count": null,
      "outputs": []
    },
    {
      "cell_type": "markdown",
      "source": [
        "**Step 6: Calculate and Display the Similarity**\n",
        "\n",
        "Calculate the Similarity - We call the calculate_similarity function with the two input strings to calculate the similarity.\n",
        "\n",
        "Display the Similarity - we print the similarity ratio to display the result.\n",
        "\n"
      ],
      "metadata": {
        "id": "gEEQ8Car87CM"
      }
    },
    {
      "cell_type": "code",
      "source": [],
      "metadata": {
        "id": "uM_1c0_W9n7e"
      },
      "execution_count": null,
      "outputs": []
    }
  ]
}