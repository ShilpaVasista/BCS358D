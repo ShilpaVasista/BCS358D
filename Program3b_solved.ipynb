{
  "nbformat": 4,
  "nbformat_minor": 0,
  "metadata": {
    "colab": {
      "provenance": [],
      "authorship_tag": "ABX9TyOMKwc5QsefDj6smWAZzUWL",
      "include_colab_link": true
    },
    "kernelspec": {
      "name": "python3",
      "display_name": "Python 3"
    },
    "language_info": {
      "name": "python"
    }
  },
  "cells": [
    {
      "cell_type": "markdown",
      "metadata": {
        "id": "view-in-github",
        "colab_type": "text"
      },
      "source": [
        "<a href=\"https://colab.research.google.com/github/ShilpaVasista/BCS358D/blob/main/Program3b_solved.ipynb\" target=\"_parent\"><img src=\"https://colab.research.google.com/assets/colab-badge.svg\" alt=\"Open In Colab\"/></a>"
      ]
    },
    {
      "cell_type": "code",
      "execution_count": 1,
      "metadata": {
        "colab": {
          "base_uri": "https://localhost:8080/"
        },
        "id": "gBUlKEYDHGHv",
        "outputId": "a6ae911b-d3a5-4895-9aad-d6a352afef0b"
      },
      "outputs": [
        {
          "output_type": "stream",
          "name": "stdout",
          "text": [
            "Enter the first string: string\n",
            "Enter the second string: String\n",
            "Similarity between two said strings: 0.8333333333333334\n"
          ]
        }
      ],
      "source": [
        "# Import the difflib library, which provides tools for comparing sequences\n",
        "import difflib\n",
        "# Define a function to calculate similarity between two strings\n",
        "def calculate_similarity(str1, str2):\n",
        "    # Create a SequenceMatcher object with None as the argument for the second parameter\n",
        "    # This allows the SequenceMatcher to auto-select appropriate algorithms for comparison\n",
        "    seq_matcher = difflib.SequenceMatcher(None, str1, str2)\n",
        "\n",
        "    # Calculate the similarity ratio between the two strings\n",
        "    similarity_ratio = seq_matcher.ratio()\n",
        "\n",
        "    return similarity_ratio\n",
        "\n",
        "\n",
        "# Prompt the user to input two strings\n",
        "str1 = input(\"Enter the first string: \")\n",
        "str2 = input(\"Enter the second string: \")\n",
        "\n",
        "# Calculate the similarity between the input strings\n",
        "similarity = calculate_similarity(str1, str2)\n",
        "\n",
        "# Print the similarity ratio\n",
        "print(\"Similarity between two said strings:\", similarity)"
      ]
    }
  ]
}